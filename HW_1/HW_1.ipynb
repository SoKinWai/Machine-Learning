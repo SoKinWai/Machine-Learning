{
 "cells": [
  {
   "cell_type": "code",
   "execution_count": 1,
   "metadata": {},
   "outputs": [
    {
     "data": {
      "text/html": [
       "<div>\n",
       "<style scoped>\n",
       "    .dataframe tbody tr th:only-of-type {\n",
       "        vertical-align: middle;\n",
       "    }\n",
       "\n",
       "    .dataframe tbody tr th {\n",
       "        vertical-align: top;\n",
       "    }\n",
       "\n",
       "    .dataframe thead th {\n",
       "        text-align: right;\n",
       "    }\n",
       "</style>\n",
       "<table border=\"1\" class=\"dataframe\">\n",
       "  <thead>\n",
       "    <tr style=\"text-align: right;\">\n",
       "      <th></th>\n",
       "      <th>rowindex</th>\n",
       "      <th>contract</th>\n",
       "      <th>price_crossing</th>\n",
       "      <th>price_distortion</th>\n",
       "      <th>roll_start</th>\n",
       "      <th>roll_heart</th>\n",
       "      <th>near_minus_next</th>\n",
       "      <th>ctd_last_first</th>\n",
       "      <th>ctd1_percent</th>\n",
       "      <th>delivery_cost</th>\n",
       "      <th>delivery_ratio</th>\n",
       "      <th>squeeze</th>\n",
       "    </tr>\n",
       "  </thead>\n",
       "  <tbody>\n",
       "    <tr>\n",
       "      <th>0</th>\n",
       "      <td>1</td>\n",
       "      <td>TUZ92 Comdty</td>\n",
       "      <td>0</td>\n",
       "      <td>1</td>\n",
       "      <td>0</td>\n",
       "      <td>1</td>\n",
       "      <td>1</td>\n",
       "      <td>1</td>\n",
       "      <td>1</td>\n",
       "      <td>0</td>\n",
       "      <td>0</td>\n",
       "      <td>True</td>\n",
       "    </tr>\n",
       "    <tr>\n",
       "      <th>1</th>\n",
       "      <td>2</td>\n",
       "      <td>TUH93 Comdty</td>\n",
       "      <td>0</td>\n",
       "      <td>1</td>\n",
       "      <td>1</td>\n",
       "      <td>0</td>\n",
       "      <td>1</td>\n",
       "      <td>1</td>\n",
       "      <td>0</td>\n",
       "      <td>0</td>\n",
       "      <td>1</td>\n",
       "      <td>False</td>\n",
       "    </tr>\n",
       "    <tr>\n",
       "      <th>2</th>\n",
       "      <td>3</td>\n",
       "      <td>TUM93 Comdty</td>\n",
       "      <td>0</td>\n",
       "      <td>0</td>\n",
       "      <td>1</td>\n",
       "      <td>1</td>\n",
       "      <td>0</td>\n",
       "      <td>0</td>\n",
       "      <td>0</td>\n",
       "      <td>0</td>\n",
       "      <td>0</td>\n",
       "      <td>False</td>\n",
       "    </tr>\n",
       "    <tr>\n",
       "      <th>3</th>\n",
       "      <td>4</td>\n",
       "      <td>TUU93 Comdty</td>\n",
       "      <td>1</td>\n",
       "      <td>1</td>\n",
       "      <td>0</td>\n",
       "      <td>0</td>\n",
       "      <td>0</td>\n",
       "      <td>0</td>\n",
       "      <td>0</td>\n",
       "      <td>1</td>\n",
       "      <td>1</td>\n",
       "      <td>True</td>\n",
       "    </tr>\n",
       "    <tr>\n",
       "      <th>4</th>\n",
       "      <td>5</td>\n",
       "      <td>TUZ93 Comdty</td>\n",
       "      <td>0</td>\n",
       "      <td>0</td>\n",
       "      <td>1</td>\n",
       "      <td>1</td>\n",
       "      <td>1</td>\n",
       "      <td>1</td>\n",
       "      <td>1</td>\n",
       "      <td>0</td>\n",
       "      <td>0</td>\n",
       "      <td>False</td>\n",
       "    </tr>\n",
       "  </tbody>\n",
       "</table>\n",
       "</div>"
      ],
      "text/plain": [
       "   rowindex      contract  price_crossing  price_distortion  roll_start  \\\n",
       "0         1  TUZ92 Comdty               0                 1           0   \n",
       "1         2  TUH93 Comdty               0                 1           1   \n",
       "2         3  TUM93 Comdty               0                 0           1   \n",
       "3         4  TUU93 Comdty               1                 1           0   \n",
       "4         5  TUZ93 Comdty               0                 0           1   \n",
       "\n",
       "   roll_heart  near_minus_next  ctd_last_first  ctd1_percent  delivery_cost  \\\n",
       "0           1                1               1             1              0   \n",
       "1           0                1               1             0              0   \n",
       "2           1                0               0             0              0   \n",
       "3           0                0               0             0              1   \n",
       "4           1                1               1             1              0   \n",
       "\n",
       "   delivery_ratio  squeeze  \n",
       "0               0     True  \n",
       "1               1    False  \n",
       "2               0    False  \n",
       "3               1     True  \n",
       "4               0    False  "
      ]
     },
     "execution_count": 1,
     "metadata": {},
     "output_type": "execute_result"
    }
   ],
   "source": [
    "import pandas as pd\n",
    "import numpy as np\n",
    "df = pd.read_csv(\"Treasury Squeeze test - DS1.csv\")\n",
    "df.head()"
   ]
  },
  {
   "cell_type": "code",
   "execution_count": 2,
   "metadata": {},
   "outputs": [
    {
     "data": {
      "text/html": [
       "<div>\n",
       "<style scoped>\n",
       "    .dataframe tbody tr th:only-of-type {\n",
       "        vertical-align: middle;\n",
       "    }\n",
       "\n",
       "    .dataframe tbody tr th {\n",
       "        vertical-align: top;\n",
       "    }\n",
       "\n",
       "    .dataframe thead th {\n",
       "        text-align: right;\n",
       "    }\n",
       "</style>\n",
       "<table border=\"1\" class=\"dataframe\">\n",
       "  <thead>\n",
       "    <tr style=\"text-align: right;\">\n",
       "      <th></th>\n",
       "      <th>price_crossing</th>\n",
       "      <th>price_distortion</th>\n",
       "      <th>roll_start</th>\n",
       "      <th>roll_heart</th>\n",
       "      <th>near_minus_next</th>\n",
       "      <th>ctd_last_first</th>\n",
       "      <th>ctd1_percent</th>\n",
       "      <th>delivery_cost</th>\n",
       "      <th>delivery_ratio</th>\n",
       "      <th>squeeze</th>\n",
       "    </tr>\n",
       "  </thead>\n",
       "  <tbody>\n",
       "    <tr>\n",
       "      <th>0</th>\n",
       "      <td>0</td>\n",
       "      <td>1</td>\n",
       "      <td>0</td>\n",
       "      <td>1</td>\n",
       "      <td>1</td>\n",
       "      <td>1</td>\n",
       "      <td>1</td>\n",
       "      <td>0</td>\n",
       "      <td>0</td>\n",
       "      <td>True</td>\n",
       "    </tr>\n",
       "    <tr>\n",
       "      <th>1</th>\n",
       "      <td>0</td>\n",
       "      <td>1</td>\n",
       "      <td>1</td>\n",
       "      <td>0</td>\n",
       "      <td>1</td>\n",
       "      <td>1</td>\n",
       "      <td>0</td>\n",
       "      <td>0</td>\n",
       "      <td>1</td>\n",
       "      <td>False</td>\n",
       "    </tr>\n",
       "    <tr>\n",
       "      <th>2</th>\n",
       "      <td>0</td>\n",
       "      <td>0</td>\n",
       "      <td>1</td>\n",
       "      <td>1</td>\n",
       "      <td>0</td>\n",
       "      <td>0</td>\n",
       "      <td>0</td>\n",
       "      <td>0</td>\n",
       "      <td>0</td>\n",
       "      <td>False</td>\n",
       "    </tr>\n",
       "    <tr>\n",
       "      <th>3</th>\n",
       "      <td>1</td>\n",
       "      <td>1</td>\n",
       "      <td>0</td>\n",
       "      <td>0</td>\n",
       "      <td>0</td>\n",
       "      <td>0</td>\n",
       "      <td>0</td>\n",
       "      <td>1</td>\n",
       "      <td>1</td>\n",
       "      <td>True</td>\n",
       "    </tr>\n",
       "    <tr>\n",
       "      <th>4</th>\n",
       "      <td>0</td>\n",
       "      <td>0</td>\n",
       "      <td>1</td>\n",
       "      <td>1</td>\n",
       "      <td>1</td>\n",
       "      <td>1</td>\n",
       "      <td>1</td>\n",
       "      <td>0</td>\n",
       "      <td>0</td>\n",
       "      <td>False</td>\n",
       "    </tr>\n",
       "  </tbody>\n",
       "</table>\n",
       "</div>"
      ],
      "text/plain": [
       "   price_crossing  price_distortion  roll_start  roll_heart  near_minus_next  \\\n",
       "0               0                 1           0           1                1   \n",
       "1               0                 1           1           0                1   \n",
       "2               0                 0           1           1                0   \n",
       "3               1                 1           0           0                0   \n",
       "4               0                 0           1           1                1   \n",
       "\n",
       "   ctd_last_first  ctd1_percent  delivery_cost  delivery_ratio  squeeze  \n",
       "0               1             1              0               0     True  \n",
       "1               1             0              0               1    False  \n",
       "2               0             0              0               0    False  \n",
       "3               0             0              1               1     True  \n",
       "4               1             1              0               0    False  "
      ]
     },
     "execution_count": 2,
     "metadata": {},
     "output_type": "execute_result"
    }
   ],
   "source": [
    "df=df.drop(['rowindex', 'contract'], axis=1)\n",
    "df.head()\n"
   ]
  },
  {
   "cell_type": "code",
   "execution_count": 3,
   "metadata": {},
   "outputs": [
    {
     "data": {
      "text/html": [
       "<div>\n",
       "<style scoped>\n",
       "    .dataframe tbody tr th:only-of-type {\n",
       "        vertical-align: middle;\n",
       "    }\n",
       "\n",
       "    .dataframe tbody tr th {\n",
       "        vertical-align: top;\n",
       "    }\n",
       "\n",
       "    .dataframe thead th {\n",
       "        text-align: right;\n",
       "    }\n",
       "</style>\n",
       "<table border=\"1\" class=\"dataframe\">\n",
       "  <thead>\n",
       "    <tr style=\"text-align: right;\">\n",
       "      <th></th>\n",
       "      <th>price_crossing</th>\n",
       "      <th>price_distortion</th>\n",
       "      <th>roll_start</th>\n",
       "      <th>roll_heart</th>\n",
       "      <th>near_minus_next</th>\n",
       "      <th>ctd_last_first</th>\n",
       "      <th>ctd1_percent</th>\n",
       "      <th>delivery_cost</th>\n",
       "      <th>delivery_ratio</th>\n",
       "    </tr>\n",
       "  </thead>\n",
       "  <tbody>\n",
       "    <tr>\n",
       "      <th>0</th>\n",
       "      <td>0</td>\n",
       "      <td>1</td>\n",
       "      <td>0</td>\n",
       "      <td>1</td>\n",
       "      <td>1</td>\n",
       "      <td>1</td>\n",
       "      <td>1</td>\n",
       "      <td>0</td>\n",
       "      <td>0</td>\n",
       "    </tr>\n",
       "    <tr>\n",
       "      <th>1</th>\n",
       "      <td>0</td>\n",
       "      <td>1</td>\n",
       "      <td>1</td>\n",
       "      <td>0</td>\n",
       "      <td>1</td>\n",
       "      <td>1</td>\n",
       "      <td>0</td>\n",
       "      <td>0</td>\n",
       "      <td>1</td>\n",
       "    </tr>\n",
       "    <tr>\n",
       "      <th>2</th>\n",
       "      <td>0</td>\n",
       "      <td>0</td>\n",
       "      <td>1</td>\n",
       "      <td>1</td>\n",
       "      <td>0</td>\n",
       "      <td>0</td>\n",
       "      <td>0</td>\n",
       "      <td>0</td>\n",
       "      <td>0</td>\n",
       "    </tr>\n",
       "    <tr>\n",
       "      <th>3</th>\n",
       "      <td>1</td>\n",
       "      <td>1</td>\n",
       "      <td>0</td>\n",
       "      <td>0</td>\n",
       "      <td>0</td>\n",
       "      <td>0</td>\n",
       "      <td>0</td>\n",
       "      <td>1</td>\n",
       "      <td>1</td>\n",
       "    </tr>\n",
       "    <tr>\n",
       "      <th>4</th>\n",
       "      <td>0</td>\n",
       "      <td>0</td>\n",
       "      <td>1</td>\n",
       "      <td>1</td>\n",
       "      <td>1</td>\n",
       "      <td>1</td>\n",
       "      <td>1</td>\n",
       "      <td>0</td>\n",
       "      <td>0</td>\n",
       "    </tr>\n",
       "  </tbody>\n",
       "</table>\n",
       "</div>"
      ],
      "text/plain": [
       "   price_crossing  price_distortion  roll_start  roll_heart  near_minus_next  \\\n",
       "0               0                 1           0           1                1   \n",
       "1               0                 1           1           0                1   \n",
       "2               0                 0           1           1                0   \n",
       "3               1                 1           0           0                0   \n",
       "4               0                 0           1           1                1   \n",
       "\n",
       "   ctd_last_first  ctd1_percent  delivery_cost  delivery_ratio  \n",
       "0               1             1              0               0  \n",
       "1               1             0              0               1  \n",
       "2               0             0              0               0  \n",
       "3               0             0              1               1  \n",
       "4               1             1              0               0  "
      ]
     },
     "execution_count": 3,
     "metadata": {},
     "output_type": "execute_result"
    }
   ],
   "source": [
    "X=df.drop(['squeeze'],axis=1)\n",
    "X.head()"
   ]
  },
  {
   "cell_type": "code",
   "execution_count": 4,
   "metadata": {},
   "outputs": [
    {
     "data": {
      "text/plain": [
       "(900, 9)"
      ]
     },
     "execution_count": 4,
     "metadata": {},
     "output_type": "execute_result"
    }
   ],
   "source": [
    "X.shape"
   ]
  },
  {
   "cell_type": "code",
   "execution_count": 5,
   "metadata": {},
   "outputs": [
    {
     "data": {
      "text/plain": [
       "0     True\n",
       "1    False\n",
       "2    False\n",
       "3     True\n",
       "4    False\n",
       "Name: squeeze, dtype: bool"
      ]
     },
     "execution_count": 5,
     "metadata": {},
     "output_type": "execute_result"
    }
   ],
   "source": [
    "y=df['squeeze']\n",
    "y.head()"
   ]
  },
  {
   "cell_type": "code",
   "execution_count": 6,
   "metadata": {},
   "outputs": [
    {
     "data": {
      "text/plain": [
       "(900,)"
      ]
     },
     "execution_count": 6,
     "metadata": {},
     "output_type": "execute_result"
    }
   ],
   "source": [
    "y.shape"
   ]
  },
  {
   "cell_type": "code",
   "execution_count": 7,
   "metadata": {},
   "outputs": [],
   "source": [
    "import sklearn\n",
    "from sklearn.neighbors import KNeighborsClassifier\n",
    "import matplotlib.pyplot as plt\n",
    "from sklearn.model_selection import train_test_split\n",
    "from sklearn.metrics import accuracy_score\n",
    "from sklearn.tree import DecisionTreeClassifier\n",
    "from sklearn.metrics import classification_report\n",
    "from sklearn.metrics import confusion_matrix\n",
    "from sklearn import metrics"
   ]
  },
  {
   "cell_type": "code",
   "execution_count": 8,
   "metadata": {},
   "outputs": [
    {
     "data": {
      "text/plain": [
       "DecisionTreeClassifier(criterion='entropy', max_depth=3, random_state=1)"
      ]
     },
     "execution_count": 8,
     "metadata": {},
     "output_type": "execute_result"
    }
   ],
   "source": [
    "X_train, X_test, y_train, y_test = train_test_split(X, y, test_size = 0.25, random_state=30)\n",
    "\n",
    "# Instantiate a DecisionTreeClassifier 'dt' with a maximum depth of 6\n",
    "dt = DecisionTreeClassifier(max_depth=3, criterion ='entropy', random_state=1)\n",
    "\n",
    "# Fit dt to the training set\n",
    "dt.fit(X_train, y_train)"
   ]
  },
  {
   "cell_type": "code",
   "execution_count": 9,
   "metadata": {},
   "outputs": [
    {
     "data": {
      "text/plain": [
       "[Text(558.0, 951.3000000000001, 'X[8] <= 0.5\\nentropy = 0.99\\nsamples = 675\\nvalue = [378, 297]'),\n",
       " Text(279.0, 679.5, 'X[0] <= 0.5\\nentropy = 0.911\\nsamples = 340\\nvalue = [229, 111]'),\n",
       " Text(139.5, 407.70000000000005, 'X[1] <= 0.5\\nentropy = 0.788\\nsamples = 161\\nvalue = [123, 38]'),\n",
       " Text(69.75, 135.89999999999998, 'entropy = 0.548\\nsamples = 87\\nvalue = [76, 11]'),\n",
       " Text(209.25, 135.89999999999998, 'entropy = 0.947\\nsamples = 74\\nvalue = [47, 27]'),\n",
       " Text(418.5, 407.70000000000005, 'X[6] <= 0.5\\nentropy = 0.975\\nsamples = 179\\nvalue = [106, 73]'),\n",
       " Text(348.75, 135.89999999999998, 'entropy = 1.0\\nsamples = 83\\nvalue = [41, 42]'),\n",
       " Text(488.25, 135.89999999999998, 'entropy = 0.908\\nsamples = 96\\nvalue = [65, 31]'),\n",
       " Text(837.0, 679.5, 'X[5] <= 0.5\\nentropy = 0.991\\nsamples = 335\\nvalue = [149, 186]'),\n",
       " Text(697.5, 407.70000000000005, 'X[1] <= 0.5\\nentropy = 0.991\\nsamples = 178\\nvalue = [99, 79]'),\n",
       " Text(627.75, 135.89999999999998, 'entropy = 0.948\\nsamples = 90\\nvalue = [57, 33]'),\n",
       " Text(767.25, 135.89999999999998, 'entropy = 0.999\\nsamples = 88\\nvalue = [42, 46]'),\n",
       " Text(976.5, 407.70000000000005, 'X[1] <= 0.5\\nentropy = 0.903\\nsamples = 157\\nvalue = [50, 107]'),\n",
       " Text(906.75, 135.89999999999998, 'entropy = 0.983\\nsamples = 78\\nvalue = [33, 45]'),\n",
       " Text(1046.25, 135.89999999999998, 'entropy = 0.751\\nsamples = 79\\nvalue = [17, 62]')]"
      ]
     },
     "execution_count": 9,
     "metadata": {},
     "output_type": "execute_result"
    },
    {
     "data": {
      "image/png": "[encoded data removed]",
      "text/plain": [
       "<Figure size 1440x1440 with 1 Axes>"
      ]
     },
     "metadata": {
      "needs_background": "light"
     },
     "output_type": "display_data"
    }
   ],
   "source": [
    "from sklearn import tree\n",
    "fig, ax = plt.subplots(figsize=(20, 20))  # whatever size you want\n",
    "tree.plot_tree(dt)\n"
   ]
  },
  {
   "cell_type": "code",
   "execution_count": 10,
   "metadata": {},
   "outputs": [
    {
     "name": "stdout",
     "output_type": "stream",
     "text": [
      "Training set accuracy: 0.65\n",
      "Test set accuracy: 0.66\n"
     ]
    }
   ],
   "source": [
    "#Predict training set labels\n",
    "y_pred_train=dt.predict(X_train)\n",
    "\n",
    "# Predict test set labels\n",
    "y_pred_test = dt.predict(X_test)\n",
    "\n",
    "# Compute training set and test set accuracy \n",
    "acc_train = accuracy_score(y_pred_train, y_train)\n",
    "acc_test= accuracy_score(y_pred_test, y_test)\n",
    "\n",
    "print(\"Training set accuracy: {:.2f}\".format(acc_train))\n",
    "print(\"Test set accuracy: {:.2f}\".format(acc_test))"
   ]
  },
  {
   "cell_type": "code",
   "execution_count": 11,
   "metadata": {},
   "outputs": [
    {
     "name": "stdout",
     "output_type": "stream",
     "text": [
      "              precision    recall  f1-score   support\n",
      "\n",
      "       False       0.76      0.64      0.70       138\n",
      "        True       0.55      0.68      0.61        87\n",
      "\n",
      "    accuracy                           0.66       225\n",
      "   macro avg       0.65      0.66      0.65       225\n",
      "weighted avg       0.68      0.66      0.66       225\n",
      "\n"
     ]
    }
   ],
   "source": [
    "print(classification_report(y_test, y_pred_test))"
   ]
  },
  {
   "cell_type": "code",
   "execution_count": 12,
   "metadata": {},
   "outputs": [
    {
     "name": "stdout",
     "output_type": "stream",
     "text": [
      "[[89 49]\n",
      " [28 59]]\n"
     ]
    }
   ],
   "source": [
    "print(confusion_matrix(y_test,y_pred_test))"
   ]
  },
  {
   "cell_type": "code",
   "execution_count": 13,
   "metadata": {},
   "outputs": [],
   "source": [
    "\n",
    "#try K=1 through K=25 and record testing accuracy\n",
    "k_range = range(1, 26)\n",
    "scores_train= []\n",
    "scores_test=[]\n",
    "for k in k_range:\n",
    "    knn = KNeighborsClassifier(n_neighbors=k)\n",
    "    \n",
    "    knn.fit(X_train, y_train)\n",
    "    \n",
    "    y_pred_train_knn=knn.predict(X_train)\n",
    "    y_pred_test_knn = knn.predict(X_test)\n",
    "        \n",
    "    scores_train.append(metrics.accuracy_score(y_train, y_pred_train_knn))\n",
    "    scores_test.append(metrics.accuracy_score(y_test, y_pred_test_knn))\n",
    "    "
   ]
  },
  {
   "cell_type": "code",
   "execution_count": 14,
   "metadata": {},
   "outputs": [
    {
     "data": {
      "image/png": "[encoded data removed]",
      "text/plain": [
       "<Figure size 432x288 with 1 Axes>"
      ]
     },
     "metadata": {
      "needs_background": "light"
     },
     "output_type": "display_data"
    }
   ],
   "source": [
    "plt.plot(scores_train,\"g\",label = \"training set accuracy KNN\")\n",
    "plt.plot(scores_test,\"r\", label = \"test set accuracy KNN\")\n",
    "plt.legend()\n",
    "plt.xlabel(\"K values\")\n",
    "plt.ylabel(\"Accuracy\")\n",
    "plt.show()"
   ]
  },
  {
   "cell_type": "code",
   "execution_count": null,
   "metadata": {},
   "outputs": [],
   "source": []
  }
 ],
 "metadata": {
  "kernelspec": {
   "display_name": "Python 3",
   "language": "python",
   "name": "python3"
  },
  "language_info": {
   "codemirror_mode": {
    "name": "ipython",
    "version": 3
   },
   "file_extension": ".py",
   "mimetype": "text/x-python",
   "name": "python",
   "nbconvert_exporter": "python",
   "pygments_lexer": "ipython3",
   "version": "3.8.5"
  }
 },
 "nbformat": 4,
 "nbformat_minor": 2
}
