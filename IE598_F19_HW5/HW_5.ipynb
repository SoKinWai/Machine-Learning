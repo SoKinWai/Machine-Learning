{
 "cells": [
  {
   "cell_type": "code",
   "execution_count": 174,
   "metadata": {},
   "outputs": [],
   "source": [
    "# Importing necessary libraries\n",
    "\n",
    "import sklearn\n",
    "import pandas            as pd\n",
    "import numpy             as np\n",
    "import matplotlib.pyplot as plt\n",
    "import seaborn           as sns\n",
    "\n",
    "from sklearn.model_selection import train_test_split\n",
    "from sklearn.preprocessing   import StandardScaler"
   ]
  },
  {
   "cell_type": "code",
   "execution_count": 175,
   "metadata": {},
   "outputs": [],
   "source": [
    "# Reading the treasury yield curve dataset using pandas\n",
    "df = pd.read_csv(\"hw5_treasury yield curve data.csv\")"
   ]
  },
  {
   "cell_type": "code",
   "execution_count": 176,
   "metadata": {},
   "outputs": [
    {
     "data": {
      "text/html": [
       "<div>\n",
       "<style scoped>\n",
       "    .dataframe tbody tr th:only-of-type {\n",
       "        vertical-align: middle;\n",
       "    }\n",
       "\n",
       "    .dataframe tbody tr th {\n",
       "        vertical-align: top;\n",
       "    }\n",
       "\n",
       "    .dataframe thead th {\n",
       "        text-align: right;\n",
       "    }\n",
       "</style>\n",
       "<table border=\"1\" class=\"dataframe\">\n",
       "  <thead>\n",
       "    <tr style=\"text-align: right;\">\n",
       "      <th></th>\n",
       "      <th>Date</th>\n",
       "      <th>SVENF01</th>\n",
       "      <th>SVENF02</th>\n",
       "      <th>SVENF03</th>\n",
       "      <th>SVENF04</th>\n",
       "      <th>SVENF05</th>\n",
       "      <th>SVENF06</th>\n",
       "      <th>SVENF07</th>\n",
       "      <th>SVENF08</th>\n",
       "      <th>SVENF09</th>\n",
       "      <th>...</th>\n",
       "      <th>SVENF22</th>\n",
       "      <th>SVENF23</th>\n",
       "      <th>SVENF24</th>\n",
       "      <th>SVENF25</th>\n",
       "      <th>SVENF26</th>\n",
       "      <th>SVENF27</th>\n",
       "      <th>SVENF28</th>\n",
       "      <th>SVENF29</th>\n",
       "      <th>SVENF30</th>\n",
       "      <th>Adj_Close</th>\n",
       "    </tr>\n",
       "  </thead>\n",
       "  <tbody>\n",
       "    <tr>\n",
       "      <th>0</th>\n",
       "      <td>5/17/2019</td>\n",
       "      <td>2.1224</td>\n",
       "      <td>2.0266</td>\n",
       "      <td>2.1023</td>\n",
       "      <td>2.2377</td>\n",
       "      <td>2.3790</td>\n",
       "      <td>2.5042</td>\n",
       "      <td>2.6069</td>\n",
       "      <td>2.6885</td>\n",
       "      <td>2.7530</td>\n",
       "      <td>...</td>\n",
       "      <td>3.3355</td>\n",
       "      <td>3.3876</td>\n",
       "      <td>3.4400</td>\n",
       "      <td>3.4925</td>\n",
       "      <td>3.5446</td>\n",
       "      <td>3.5962</td>\n",
       "      <td>3.6471</td>\n",
       "      <td>3.6970</td>\n",
       "      <td>3.7458</td>\n",
       "      <td>10.130177</td>\n",
       "    </tr>\n",
       "    <tr>\n",
       "      <th>1</th>\n",
       "      <td>5/16/2019</td>\n",
       "      <td>2.1239</td>\n",
       "      <td>2.0317</td>\n",
       "      <td>2.1096</td>\n",
       "      <td>2.2468</td>\n",
       "      <td>2.3901</td>\n",
       "      <td>2.5171</td>\n",
       "      <td>2.6217</td>\n",
       "      <td>2.7049</td>\n",
       "      <td>2.7710</td>\n",
       "      <td>...</td>\n",
       "      <td>3.3574</td>\n",
       "      <td>3.4091</td>\n",
       "      <td>3.4610</td>\n",
       "      <td>3.5130</td>\n",
       "      <td>3.5646</td>\n",
       "      <td>3.6156</td>\n",
       "      <td>3.6660</td>\n",
       "      <td>3.7153</td>\n",
       "      <td>3.7636</td>\n",
       "      <td>10.130177</td>\n",
       "    </tr>\n",
       "    <tr>\n",
       "      <th>2</th>\n",
       "      <td>5/15/2019</td>\n",
       "      <td>2.0874</td>\n",
       "      <td>1.9956</td>\n",
       "      <td>2.0844</td>\n",
       "      <td>2.2289</td>\n",
       "      <td>2.3736</td>\n",
       "      <td>2.4980</td>\n",
       "      <td>2.5984</td>\n",
       "      <td>2.6779</td>\n",
       "      <td>2.7418</td>\n",
       "      <td>...</td>\n",
       "      <td>3.3589</td>\n",
       "      <td>3.4086</td>\n",
       "      <td>3.4575</td>\n",
       "      <td>3.5055</td>\n",
       "      <td>3.5524</td>\n",
       "      <td>3.5980</td>\n",
       "      <td>3.6421</td>\n",
       "      <td>3.6847</td>\n",
       "      <td>3.7257</td>\n",
       "      <td>10.150118</td>\n",
       "    </tr>\n",
       "    <tr>\n",
       "      <th>3</th>\n",
       "      <td>5/14/2019</td>\n",
       "      <td>2.1319</td>\n",
       "      <td>2.0559</td>\n",
       "      <td>2.1451</td>\n",
       "      <td>2.2856</td>\n",
       "      <td>2.4257</td>\n",
       "      <td>2.5461</td>\n",
       "      <td>2.6428</td>\n",
       "      <td>2.7188</td>\n",
       "      <td>2.7791</td>\n",
       "      <td>...</td>\n",
       "      <td>3.3940</td>\n",
       "      <td>3.4485</td>\n",
       "      <td>3.5029</td>\n",
       "      <td>3.5568</td>\n",
       "      <td>3.6099</td>\n",
       "      <td>3.6622</td>\n",
       "      <td>3.7132</td>\n",
       "      <td>3.7630</td>\n",
       "      <td>3.8113</td>\n",
       "      <td>10.130177</td>\n",
       "    </tr>\n",
       "    <tr>\n",
       "      <th>4</th>\n",
       "      <td>5/13/2019</td>\n",
       "      <td>2.1051</td>\n",
       "      <td>2.0234</td>\n",
       "      <td>2.1180</td>\n",
       "      <td>2.2632</td>\n",
       "      <td>2.4051</td>\n",
       "      <td>2.5248</td>\n",
       "      <td>2.6198</td>\n",
       "      <td>2.6940</td>\n",
       "      <td>2.7532</td>\n",
       "      <td>...</td>\n",
       "      <td>3.3712</td>\n",
       "      <td>3.4227</td>\n",
       "      <td>3.4735</td>\n",
       "      <td>3.5234</td>\n",
       "      <td>3.5722</td>\n",
       "      <td>3.6196</td>\n",
       "      <td>3.6655</td>\n",
       "      <td>3.7098</td>\n",
       "      <td>3.7525</td>\n",
       "      <td>10.130177</td>\n",
       "    </tr>\n",
       "  </tbody>\n",
       "</table>\n",
       "<p>5 rows × 32 columns</p>\n",
       "</div>"
      ],
      "text/plain": [
       "        Date  SVENF01  SVENF02  SVENF03  SVENF04  SVENF05  SVENF06  SVENF07  \\\n",
       "0  5/17/2019   2.1224   2.0266   2.1023   2.2377   2.3790   2.5042   2.6069   \n",
       "1  5/16/2019   2.1239   2.0317   2.1096   2.2468   2.3901   2.5171   2.6217   \n",
       "2  5/15/2019   2.0874   1.9956   2.0844   2.2289   2.3736   2.4980   2.5984   \n",
       "3  5/14/2019   2.1319   2.0559   2.1451   2.2856   2.4257   2.5461   2.6428   \n",
       "4  5/13/2019   2.1051   2.0234   2.1180   2.2632   2.4051   2.5248   2.6198   \n",
       "\n",
       "   SVENF08  SVENF09  ...  SVENF22  SVENF23  SVENF24  SVENF25  SVENF26  \\\n",
       "0   2.6885   2.7530  ...   3.3355   3.3876   3.4400   3.4925   3.5446   \n",
       "1   2.7049   2.7710  ...   3.3574   3.4091   3.4610   3.5130   3.5646   \n",
       "2   2.6779   2.7418  ...   3.3589   3.4086   3.4575   3.5055   3.5524   \n",
       "3   2.7188   2.7791  ...   3.3940   3.4485   3.5029   3.5568   3.6099   \n",
       "4   2.6940   2.7532  ...   3.3712   3.4227   3.4735   3.5234   3.5722   \n",
       "\n",
       "   SVENF27  SVENF28  SVENF29  SVENF30  Adj_Close  \n",
       "0   3.5962   3.6471   3.6970   3.7458  10.130177  \n",
       "1   3.6156   3.6660   3.7153   3.7636  10.130177  \n",
       "2   3.5980   3.6421   3.6847   3.7257  10.150118  \n",
       "3   3.6622   3.7132   3.7630   3.8113  10.130177  \n",
       "4   3.6196   3.6655   3.7098   3.7525  10.130177  \n",
       "\n",
       "[5 rows x 32 columns]"
      ]
     },
     "execution_count": 176,
     "metadata": {},
     "output_type": "execute_result"
    }
   ],
   "source": [
    "df.head()\n"
   ]
  },
  {
   "cell_type": "code",
   "execution_count": 187,
   "metadata": {},
   "outputs": [],
   "source": [
    "df = df.drop([\"Date\"],axis =1)\n"
   ]
  },
  {
   "cell_type": "code",
   "execution_count": 188,
   "metadata": {},
   "outputs": [
    {
     "data": {
      "text/html": [
       "<div>\n",
       "<style scoped>\n",
       "    .dataframe tbody tr th:only-of-type {\n",
       "        vertical-align: middle;\n",
       "    }\n",
       "\n",
       "    .dataframe tbody tr th {\n",
       "        vertical-align: top;\n",
       "    }\n",
       "\n",
       "    .dataframe thead th {\n",
       "        text-align: right;\n",
       "    }\n",
       "</style>\n",
       "<table border=\"1\" class=\"dataframe\">\n",
       "  <thead>\n",
       "    <tr style=\"text-align: right;\">\n",
       "      <th></th>\n",
       "      <th>SVENF01</th>\n",
       "      <th>SVENF02</th>\n",
       "      <th>SVENF03</th>\n",
       "      <th>SVENF04</th>\n",
       "      <th>SVENF05</th>\n",
       "      <th>SVENF06</th>\n",
       "      <th>SVENF07</th>\n",
       "      <th>SVENF08</th>\n",
       "      <th>SVENF09</th>\n",
       "      <th>SVENF10</th>\n",
       "      <th>...</th>\n",
       "      <th>SVENF22</th>\n",
       "      <th>SVENF23</th>\n",
       "      <th>SVENF24</th>\n",
       "      <th>SVENF25</th>\n",
       "      <th>SVENF26</th>\n",
       "      <th>SVENF27</th>\n",
       "      <th>SVENF28</th>\n",
       "      <th>SVENF29</th>\n",
       "      <th>SVENF30</th>\n",
       "      <th>Adj_Close</th>\n",
       "    </tr>\n",
       "  </thead>\n",
       "  <tbody>\n",
       "    <tr>\n",
       "      <th>count</th>\n",
       "      <td>8071.000000</td>\n",
       "      <td>8071.000000</td>\n",
       "      <td>8071.000000</td>\n",
       "      <td>8071.000000</td>\n",
       "      <td>8071.000000</td>\n",
       "      <td>8071.000000</td>\n",
       "      <td>8071.000000</td>\n",
       "      <td>8071.000000</td>\n",
       "      <td>8071.000000</td>\n",
       "      <td>8071.000000</td>\n",
       "      <td>...</td>\n",
       "      <td>8071.000000</td>\n",
       "      <td>8071.000000</td>\n",
       "      <td>8071.000000</td>\n",
       "      <td>8071.000000</td>\n",
       "      <td>8071.000000</td>\n",
       "      <td>8071.000000</td>\n",
       "      <td>8071.000000</td>\n",
       "      <td>8071.000000</td>\n",
       "      <td>8071.000000</td>\n",
       "      <td>8071.000000</td>\n",
       "    </tr>\n",
       "    <tr>\n",
       "      <th>mean</th>\n",
       "      <td>3.785311</td>\n",
       "      <td>4.258972</td>\n",
       "      <td>4.669363</td>\n",
       "      <td>5.022430</td>\n",
       "      <td>5.318493</td>\n",
       "      <td>5.559644</td>\n",
       "      <td>5.750071</td>\n",
       "      <td>5.895135</td>\n",
       "      <td>6.000596</td>\n",
       "      <td>6.072112</td>\n",
       "      <td>...</td>\n",
       "      <td>5.689046</td>\n",
       "      <td>5.621666</td>\n",
       "      <td>5.554136</td>\n",
       "      <td>5.486943</td>\n",
       "      <td>5.420479</td>\n",
       "      <td>5.355063</td>\n",
       "      <td>5.290948</td>\n",
       "      <td>5.228333</td>\n",
       "      <td>5.167371</td>\n",
       "      <td>5.509793</td>\n",
       "    </tr>\n",
       "    <tr>\n",
       "      <th>std</th>\n",
       "      <td>2.648060</td>\n",
       "      <td>2.498137</td>\n",
       "      <td>2.341348</td>\n",
       "      <td>2.221632</td>\n",
       "      <td>2.137801</td>\n",
       "      <td>2.080405</td>\n",
       "      <td>2.040337</td>\n",
       "      <td>2.010786</td>\n",
       "      <td>1.987244</td>\n",
       "      <td>1.966960</td>\n",
       "      <td>...</td>\n",
       "      <td>1.801291</td>\n",
       "      <td>1.797858</td>\n",
       "      <td>1.797012</td>\n",
       "      <td>1.798842</td>\n",
       "      <td>1.803390</td>\n",
       "      <td>1.810643</td>\n",
       "      <td>1.820541</td>\n",
       "      <td>1.832984</td>\n",
       "      <td>1.847834</td>\n",
       "      <td>2.491110</td>\n",
       "    </tr>\n",
       "    <tr>\n",
       "      <th>min</th>\n",
       "      <td>0.072700</td>\n",
       "      <td>0.327300</td>\n",
       "      <td>0.630300</td>\n",
       "      <td>1.013000</td>\n",
       "      <td>1.424500</td>\n",
       "      <td>1.698200</td>\n",
       "      <td>1.807300</td>\n",
       "      <td>1.885000</td>\n",
       "      <td>1.942100</td>\n",
       "      <td>1.988200</td>\n",
       "      <td>...</td>\n",
       "      <td>1.489600</td>\n",
       "      <td>1.283000</td>\n",
       "      <td>1.100800</td>\n",
       "      <td>0.941000</td>\n",
       "      <td>0.801800</td>\n",
       "      <td>0.681200</td>\n",
       "      <td>0.577100</td>\n",
       "      <td>0.487600</td>\n",
       "      <td>0.411100</td>\n",
       "      <td>2.801050</td>\n",
       "    </tr>\n",
       "    <tr>\n",
       "      <th>25%</th>\n",
       "      <td>1.144050</td>\n",
       "      <td>1.865600</td>\n",
       "      <td>2.536550</td>\n",
       "      <td>3.023050</td>\n",
       "      <td>3.544700</td>\n",
       "      <td>4.063300</td>\n",
       "      <td>4.409750</td>\n",
       "      <td>4.644300</td>\n",
       "      <td>4.774550</td>\n",
       "      <td>4.859500</td>\n",
       "      <td>...</td>\n",
       "      <td>4.177450</td>\n",
       "      <td>4.090550</td>\n",
       "      <td>4.024800</td>\n",
       "      <td>3.982950</td>\n",
       "      <td>3.962100</td>\n",
       "      <td>3.887150</td>\n",
       "      <td>3.840900</td>\n",
       "      <td>3.825050</td>\n",
       "      <td>3.831350</td>\n",
       "      <td>3.130587</td>\n",
       "    </tr>\n",
       "    <tr>\n",
       "      <th>50%</th>\n",
       "      <td>3.986500</td>\n",
       "      <td>4.393300</td>\n",
       "      <td>4.505500</td>\n",
       "      <td>4.718900</td>\n",
       "      <td>5.051300</td>\n",
       "      <td>5.394600</td>\n",
       "      <td>5.663700</td>\n",
       "      <td>5.870800</td>\n",
       "      <td>5.993700</td>\n",
       "      <td>6.082400</td>\n",
       "      <td>...</td>\n",
       "      <td>5.619600</td>\n",
       "      <td>5.503000</td>\n",
       "      <td>5.369900</td>\n",
       "      <td>5.228000</td>\n",
       "      <td>5.096700</td>\n",
       "      <td>4.979700</td>\n",
       "      <td>4.860800</td>\n",
       "      <td>4.758600</td>\n",
       "      <td>4.669000</td>\n",
       "      <td>4.956219</td>\n",
       "    </tr>\n",
       "    <tr>\n",
       "      <th>75%</th>\n",
       "      <td>5.901500</td>\n",
       "      <td>6.221250</td>\n",
       "      <td>6.461300</td>\n",
       "      <td>6.626600</td>\n",
       "      <td>6.779550</td>\n",
       "      <td>6.908050</td>\n",
       "      <td>7.049900</td>\n",
       "      <td>7.181600</td>\n",
       "      <td>7.297550</td>\n",
       "      <td>7.393350</td>\n",
       "      <td>...</td>\n",
       "      <td>7.330550</td>\n",
       "      <td>7.233200</td>\n",
       "      <td>7.114900</td>\n",
       "      <td>6.998150</td>\n",
       "      <td>6.871050</td>\n",
       "      <td>6.765400</td>\n",
       "      <td>6.650600</td>\n",
       "      <td>6.535450</td>\n",
       "      <td>6.421850</td>\n",
       "      <td>8.051437</td>\n",
       "    </tr>\n",
       "    <tr>\n",
       "      <th>max</th>\n",
       "      <td>9.813800</td>\n",
       "      <td>9.887800</td>\n",
       "      <td>10.145600</td>\n",
       "      <td>10.459900</td>\n",
       "      <td>10.649900</td>\n",
       "      <td>10.741400</td>\n",
       "      <td>10.766300</td>\n",
       "      <td>10.747500</td>\n",
       "      <td>10.701500</td>\n",
       "      <td>10.640000</td>\n",
       "      <td>...</td>\n",
       "      <td>10.535100</td>\n",
       "      <td>10.535100</td>\n",
       "      <td>10.535100</td>\n",
       "      <td>10.535100</td>\n",
       "      <td>10.535100</td>\n",
       "      <td>10.535100</td>\n",
       "      <td>10.535100</td>\n",
       "      <td>10.535100</td>\n",
       "      <td>10.535100</td>\n",
       "      <td>10.150118</td>\n",
       "    </tr>\n",
       "  </tbody>\n",
       "</table>\n",
       "<p>8 rows × 31 columns</p>\n",
       "</div>"
      ],
      "text/plain": [
       "           SVENF01      SVENF02      SVENF03      SVENF04      SVENF05  \\\n",
       "count  8071.000000  8071.000000  8071.000000  8071.000000  8071.000000   \n",
       "mean      3.785311     4.258972     4.669363     5.022430     5.318493   \n",
       "std       2.648060     2.498137     2.341348     2.221632     2.137801   \n",
       "min       0.072700     0.327300     0.630300     1.013000     1.424500   \n",
       "25%       1.144050     1.865600     2.536550     3.023050     3.544700   \n",
       "50%       3.986500     4.393300     4.505500     4.718900     5.051300   \n",
       "75%       5.901500     6.221250     6.461300     6.626600     6.779550   \n",
       "max       9.813800     9.887800    10.145600    10.459900    10.649900   \n",
       "\n",
       "           SVENF06      SVENF07      SVENF08      SVENF09      SVENF10  ...  \\\n",
       "count  8071.000000  8071.000000  8071.000000  8071.000000  8071.000000  ...   \n",
       "mean      5.559644     5.750071     5.895135     6.000596     6.072112  ...   \n",
       "std       2.080405     2.040337     2.010786     1.987244     1.966960  ...   \n",
       "min       1.698200     1.807300     1.885000     1.942100     1.988200  ...   \n",
       "25%       4.063300     4.409750     4.644300     4.774550     4.859500  ...   \n",
       "50%       5.394600     5.663700     5.870800     5.993700     6.082400  ...   \n",
       "75%       6.908050     7.049900     7.181600     7.297550     7.393350  ...   \n",
       "max      10.741400    10.766300    10.747500    10.701500    10.640000  ...   \n",
       "\n",
       "           SVENF22      SVENF23      SVENF24      SVENF25      SVENF26  \\\n",
       "count  8071.000000  8071.000000  8071.000000  8071.000000  8071.000000   \n",
       "mean      5.689046     5.621666     5.554136     5.486943     5.420479   \n",
       "std       1.801291     1.797858     1.797012     1.798842     1.803390   \n",
       "min       1.489600     1.283000     1.100800     0.941000     0.801800   \n",
       "25%       4.177450     4.090550     4.024800     3.982950     3.962100   \n",
       "50%       5.619600     5.503000     5.369900     5.228000     5.096700   \n",
       "75%       7.330550     7.233200     7.114900     6.998150     6.871050   \n",
       "max      10.535100    10.535100    10.535100    10.535100    10.535100   \n",
       "\n",
       "           SVENF27      SVENF28      SVENF29      SVENF30    Adj_Close  \n",
       "count  8071.000000  8071.000000  8071.000000  8071.000000  8071.000000  \n",
       "mean      5.355063     5.290948     5.228333     5.167371     5.509793  \n",
       "std       1.810643     1.820541     1.832984     1.847834     2.491110  \n",
       "min       0.681200     0.577100     0.487600     0.411100     2.801050  \n",
       "25%       3.887150     3.840900     3.825050     3.831350     3.130587  \n",
       "50%       4.979700     4.860800     4.758600     4.669000     4.956219  \n",
       "75%       6.765400     6.650600     6.535450     6.421850     8.051437  \n",
       "max      10.535100    10.535100    10.535100    10.535100    10.150118  \n",
       "\n",
       "[8 rows x 31 columns]"
      ]
     },
     "execution_count": 188,
     "metadata": {},
     "output_type": "execute_result"
    }
   ],
   "source": [
    "# Summary statistics of the dataset\n",
    "\n",
    "df.describe()"
   ]
  },
  {
   "cell_type": "code",
   "execution_count": 189,
   "metadata": {},
   "outputs": [
    {
     "data": {
      "text/html": [
       "<div>\n",
       "<style scoped>\n",
       "    .dataframe tbody tr th:only-of-type {\n",
       "        vertical-align: middle;\n",
       "    }\n",
       "\n",
       "    .dataframe tbody tr th {\n",
       "        vertical-align: top;\n",
       "    }\n",
       "\n",
       "    .dataframe thead th {\n",
       "        text-align: right;\n",
       "    }\n",
       "</style>\n",
       "<table border=\"1\" class=\"dataframe\">\n",
       "  <thead>\n",
       "    <tr style=\"text-align: right;\">\n",
       "      <th></th>\n",
       "      <th>SVENF01</th>\n",
       "      <th>SVENF02</th>\n",
       "      <th>SVENF03</th>\n",
       "      <th>SVENF04</th>\n",
       "      <th>SVENF05</th>\n",
       "      <th>SVENF06</th>\n",
       "      <th>SVENF07</th>\n",
       "      <th>SVENF08</th>\n",
       "      <th>SVENF09</th>\n",
       "      <th>SVENF10</th>\n",
       "      <th>...</th>\n",
       "      <th>SVENF22</th>\n",
       "      <th>SVENF23</th>\n",
       "      <th>SVENF24</th>\n",
       "      <th>SVENF25</th>\n",
       "      <th>SVENF26</th>\n",
       "      <th>SVENF27</th>\n",
       "      <th>SVENF28</th>\n",
       "      <th>SVENF29</th>\n",
       "      <th>SVENF30</th>\n",
       "      <th>Adj_Close</th>\n",
       "    </tr>\n",
       "  </thead>\n",
       "  <tbody>\n",
       "    <tr>\n",
       "      <th>count</th>\n",
       "      <td>8071</td>\n",
       "      <td>8071</td>\n",
       "      <td>8071</td>\n",
       "      <td>8071</td>\n",
       "      <td>8071</td>\n",
       "      <td>8071</td>\n",
       "      <td>8071</td>\n",
       "      <td>8071</td>\n",
       "      <td>8071</td>\n",
       "      <td>8071</td>\n",
       "      <td>...</td>\n",
       "      <td>8071</td>\n",
       "      <td>8071</td>\n",
       "      <td>8071</td>\n",
       "      <td>8071</td>\n",
       "      <td>8071</td>\n",
       "      <td>8071</td>\n",
       "      <td>8071</td>\n",
       "      <td>8071</td>\n",
       "      <td>8071</td>\n",
       "      <td>8071</td>\n",
       "    </tr>\n",
       "    <tr>\n",
       "      <th>unique</th>\n",
       "      <td>1</td>\n",
       "      <td>1</td>\n",
       "      <td>1</td>\n",
       "      <td>1</td>\n",
       "      <td>1</td>\n",
       "      <td>1</td>\n",
       "      <td>1</td>\n",
       "      <td>1</td>\n",
       "      <td>1</td>\n",
       "      <td>1</td>\n",
       "      <td>...</td>\n",
       "      <td>1</td>\n",
       "      <td>1</td>\n",
       "      <td>1</td>\n",
       "      <td>1</td>\n",
       "      <td>1</td>\n",
       "      <td>1</td>\n",
       "      <td>1</td>\n",
       "      <td>1</td>\n",
       "      <td>1</td>\n",
       "      <td>1</td>\n",
       "    </tr>\n",
       "    <tr>\n",
       "      <th>top</th>\n",
       "      <td>False</td>\n",
       "      <td>False</td>\n",
       "      <td>False</td>\n",
       "      <td>False</td>\n",
       "      <td>False</td>\n",
       "      <td>False</td>\n",
       "      <td>False</td>\n",
       "      <td>False</td>\n",
       "      <td>False</td>\n",
       "      <td>False</td>\n",
       "      <td>...</td>\n",
       "      <td>False</td>\n",
       "      <td>False</td>\n",
       "      <td>False</td>\n",
       "      <td>False</td>\n",
       "      <td>False</td>\n",
       "      <td>False</td>\n",
       "      <td>False</td>\n",
       "      <td>False</td>\n",
       "      <td>False</td>\n",
       "      <td>False</td>\n",
       "    </tr>\n",
       "    <tr>\n",
       "      <th>freq</th>\n",
       "      <td>8071</td>\n",
       "      <td>8071</td>\n",
       "      <td>8071</td>\n",
       "      <td>8071</td>\n",
       "      <td>8071</td>\n",
       "      <td>8071</td>\n",
       "      <td>8071</td>\n",
       "      <td>8071</td>\n",
       "      <td>8071</td>\n",
       "      <td>8071</td>\n",
       "      <td>...</td>\n",
       "      <td>8071</td>\n",
       "      <td>8071</td>\n",
       "      <td>8071</td>\n",
       "      <td>8071</td>\n",
       "      <td>8071</td>\n",
       "      <td>8071</td>\n",
       "      <td>8071</td>\n",
       "      <td>8071</td>\n",
       "      <td>8071</td>\n",
       "      <td>8071</td>\n",
       "    </tr>\n",
       "  </tbody>\n",
       "</table>\n",
       "<p>4 rows × 31 columns</p>\n",
       "</div>"
      ],
      "text/plain": [
       "       SVENF01 SVENF02 SVENF03 SVENF04 SVENF05 SVENF06 SVENF07 SVENF08  \\\n",
       "count     8071    8071    8071    8071    8071    8071    8071    8071   \n",
       "unique       1       1       1       1       1       1       1       1   \n",
       "top      False   False   False   False   False   False   False   False   \n",
       "freq      8071    8071    8071    8071    8071    8071    8071    8071   \n",
       "\n",
       "       SVENF09 SVENF10  ... SVENF22 SVENF23 SVENF24 SVENF25 SVENF26 SVENF27  \\\n",
       "count     8071    8071  ...    8071    8071    8071    8071    8071    8071   \n",
       "unique       1       1  ...       1       1       1       1       1       1   \n",
       "top      False   False  ...   False   False   False   False   False   False   \n",
       "freq      8071    8071  ...    8071    8071    8071    8071    8071    8071   \n",
       "\n",
       "       SVENF28 SVENF29 SVENF30 Adj_Close  \n",
       "count     8071    8071    8071      8071  \n",
       "unique       1       1       1         1  \n",
       "top      False   False   False     False  \n",
       "freq      8071    8071    8071      8071  \n",
       "\n",
       "[4 rows x 31 columns]"
      ]
     },
     "execution_count": 189,
     "metadata": {},
     "output_type": "execute_result"
    }
   ],
   "source": [
    "# Checking for missing values : if unique is 1 and if it corresponds to False, then no missing values\n",
    "\n",
    "df.isnull().describe() "
   ]
  },
  {
   "cell_type": "code",
   "execution_count": 190,
   "metadata": {},
   "outputs": [
    {
     "data": {
      "text/html": [
       "<div>\n",
       "<style scoped>\n",
       "    .dataframe tbody tr th:only-of-type {\n",
       "        vertical-align: middle;\n",
       "    }\n",
       "\n",
       "    .dataframe tbody tr th {\n",
       "        vertical-align: top;\n",
       "    }\n",
       "\n",
       "    .dataframe thead th {\n",
       "        text-align: right;\n",
       "    }\n",
       "</style>\n",
       "<table border=\"1\" class=\"dataframe\">\n",
       "  <thead>\n",
       "    <tr style=\"text-align: right;\">\n",
       "      <th></th>\n",
       "      <th>SVENF01</th>\n",
       "      <th>SVENF02</th>\n",
       "      <th>SVENF03</th>\n",
       "      <th>SVENF04</th>\n",
       "      <th>SVENF05</th>\n",
       "      <th>SVENF06</th>\n",
       "      <th>SVENF07</th>\n",
       "      <th>SVENF08</th>\n",
       "      <th>SVENF09</th>\n",
       "      <th>SVENF10</th>\n",
       "      <th>...</th>\n",
       "      <th>SVENF22</th>\n",
       "      <th>SVENF23</th>\n",
       "      <th>SVENF24</th>\n",
       "      <th>SVENF25</th>\n",
       "      <th>SVENF26</th>\n",
       "      <th>SVENF27</th>\n",
       "      <th>SVENF28</th>\n",
       "      <th>SVENF29</th>\n",
       "      <th>SVENF30</th>\n",
       "      <th>Adj_Close</th>\n",
       "    </tr>\n",
       "  </thead>\n",
       "  <tbody>\n",
       "    <tr>\n",
       "      <th>0</th>\n",
       "      <td>2.1224</td>\n",
       "      <td>2.0266</td>\n",
       "      <td>2.1023</td>\n",
       "      <td>2.2377</td>\n",
       "      <td>2.3790</td>\n",
       "      <td>2.5042</td>\n",
       "      <td>2.6069</td>\n",
       "      <td>2.6885</td>\n",
       "      <td>2.7530</td>\n",
       "      <td>2.8054</td>\n",
       "      <td>...</td>\n",
       "      <td>3.3355</td>\n",
       "      <td>3.3876</td>\n",
       "      <td>3.4400</td>\n",
       "      <td>3.4925</td>\n",
       "      <td>3.5446</td>\n",
       "      <td>3.5962</td>\n",
       "      <td>3.6471</td>\n",
       "      <td>3.6970</td>\n",
       "      <td>3.7458</td>\n",
       "      <td>10.130177</td>\n",
       "    </tr>\n",
       "    <tr>\n",
       "      <th>1</th>\n",
       "      <td>2.1239</td>\n",
       "      <td>2.0317</td>\n",
       "      <td>2.1096</td>\n",
       "      <td>2.2468</td>\n",
       "      <td>2.3901</td>\n",
       "      <td>2.5171</td>\n",
       "      <td>2.6217</td>\n",
       "      <td>2.7049</td>\n",
       "      <td>2.7710</td>\n",
       "      <td>2.8247</td>\n",
       "      <td>...</td>\n",
       "      <td>3.3574</td>\n",
       "      <td>3.4091</td>\n",
       "      <td>3.4610</td>\n",
       "      <td>3.5130</td>\n",
       "      <td>3.5646</td>\n",
       "      <td>3.6156</td>\n",
       "      <td>3.6660</td>\n",
       "      <td>3.7153</td>\n",
       "      <td>3.7636</td>\n",
       "      <td>10.130177</td>\n",
       "    </tr>\n",
       "    <tr>\n",
       "      <th>2</th>\n",
       "      <td>2.0874</td>\n",
       "      <td>1.9956</td>\n",
       "      <td>2.0844</td>\n",
       "      <td>2.2289</td>\n",
       "      <td>2.3736</td>\n",
       "      <td>2.4980</td>\n",
       "      <td>2.5984</td>\n",
       "      <td>2.6779</td>\n",
       "      <td>2.7418</td>\n",
       "      <td>2.7951</td>\n",
       "      <td>...</td>\n",
       "      <td>3.3589</td>\n",
       "      <td>3.4086</td>\n",
       "      <td>3.4575</td>\n",
       "      <td>3.5055</td>\n",
       "      <td>3.5524</td>\n",
       "      <td>3.5980</td>\n",
       "      <td>3.6421</td>\n",
       "      <td>3.6847</td>\n",
       "      <td>3.7257</td>\n",
       "      <td>10.150118</td>\n",
       "    </tr>\n",
       "    <tr>\n",
       "      <th>3</th>\n",
       "      <td>2.1319</td>\n",
       "      <td>2.0559</td>\n",
       "      <td>2.1451</td>\n",
       "      <td>2.2856</td>\n",
       "      <td>2.4257</td>\n",
       "      <td>2.5461</td>\n",
       "      <td>2.6428</td>\n",
       "      <td>2.7188</td>\n",
       "      <td>2.7791</td>\n",
       "      <td>2.8289</td>\n",
       "      <td>...</td>\n",
       "      <td>3.3940</td>\n",
       "      <td>3.4485</td>\n",
       "      <td>3.5029</td>\n",
       "      <td>3.5568</td>\n",
       "      <td>3.6099</td>\n",
       "      <td>3.6622</td>\n",
       "      <td>3.7132</td>\n",
       "      <td>3.7630</td>\n",
       "      <td>3.8113</td>\n",
       "      <td>10.130177</td>\n",
       "    </tr>\n",
       "    <tr>\n",
       "      <th>4</th>\n",
       "      <td>2.1051</td>\n",
       "      <td>2.0234</td>\n",
       "      <td>2.1180</td>\n",
       "      <td>2.2632</td>\n",
       "      <td>2.4051</td>\n",
       "      <td>2.5248</td>\n",
       "      <td>2.6198</td>\n",
       "      <td>2.6940</td>\n",
       "      <td>2.7532</td>\n",
       "      <td>2.8029</td>\n",
       "      <td>...</td>\n",
       "      <td>3.3712</td>\n",
       "      <td>3.4227</td>\n",
       "      <td>3.4735</td>\n",
       "      <td>3.5234</td>\n",
       "      <td>3.5722</td>\n",
       "      <td>3.6196</td>\n",
       "      <td>3.6655</td>\n",
       "      <td>3.7098</td>\n",
       "      <td>3.7525</td>\n",
       "      <td>10.130177</td>\n",
       "    </tr>\n",
       "  </tbody>\n",
       "</table>\n",
       "<p>5 rows × 31 columns</p>\n",
       "</div>"
      ],
      "text/plain": [
       "   SVENF01  SVENF02  SVENF03  SVENF04  SVENF05  SVENF06  SVENF07  SVENF08  \\\n",
       "0   2.1224   2.0266   2.1023   2.2377   2.3790   2.5042   2.6069   2.6885   \n",
       "1   2.1239   2.0317   2.1096   2.2468   2.3901   2.5171   2.6217   2.7049   \n",
       "2   2.0874   1.9956   2.0844   2.2289   2.3736   2.4980   2.5984   2.6779   \n",
       "3   2.1319   2.0559   2.1451   2.2856   2.4257   2.5461   2.6428   2.7188   \n",
       "4   2.1051   2.0234   2.1180   2.2632   2.4051   2.5248   2.6198   2.6940   \n",
       "\n",
       "   SVENF09  SVENF10  ...  SVENF22  SVENF23  SVENF24  SVENF25  SVENF26  \\\n",
       "0   2.7530   2.8054  ...   3.3355   3.3876   3.4400   3.4925   3.5446   \n",
       "1   2.7710   2.8247  ...   3.3574   3.4091   3.4610   3.5130   3.5646   \n",
       "2   2.7418   2.7951  ...   3.3589   3.4086   3.4575   3.5055   3.5524   \n",
       "3   2.7791   2.8289  ...   3.3940   3.4485   3.5029   3.5568   3.6099   \n",
       "4   2.7532   2.8029  ...   3.3712   3.4227   3.4735   3.5234   3.5722   \n",
       "\n",
       "   SVENF27  SVENF28  SVENF29  SVENF30  Adj_Close  \n",
       "0   3.5962   3.6471   3.6970   3.7458  10.130177  \n",
       "1   3.6156   3.6660   3.7153   3.7636  10.130177  \n",
       "2   3.5980   3.6421   3.6847   3.7257  10.150118  \n",
       "3   3.6622   3.7132   3.7630   3.8113  10.130177  \n",
       "4   3.6196   3.6655   3.7098   3.7525  10.130177  \n",
       "\n",
       "[5 rows x 31 columns]"
      ]
     },
     "execution_count": 190,
     "metadata": {},
     "output_type": "execute_result"
    }
   ],
   "source": [
    "# Printing top 5 samples of the dataset\n",
    "\n",
    "df.head()"
   ]
  },
  {
   "cell_type": "code",
   "execution_count": 191,
   "metadata": {},
   "outputs": [
    {
     "data": {
      "text/html": [
       "<div>\n",
       "<style scoped>\n",
       "    .dataframe tbody tr th:only-of-type {\n",
       "        vertical-align: middle;\n",
       "    }\n",
       "\n",
       "    .dataframe tbody tr th {\n",
       "        vertical-align: top;\n",
       "    }\n",
       "\n",
       "    .dataframe thead th {\n",
       "        text-align: right;\n",
       "    }\n",
       "</style>\n",
       "<table border=\"1\" class=\"dataframe\">\n",
       "  <thead>\n",
       "    <tr style=\"text-align: right;\">\n",
       "      <th></th>\n",
       "      <th>SVENF01</th>\n",
       "      <th>SVENF02</th>\n",
       "      <th>SVENF03</th>\n",
       "      <th>SVENF04</th>\n",
       "      <th>SVENF05</th>\n",
       "      <th>SVENF06</th>\n",
       "      <th>SVENF07</th>\n",
       "      <th>SVENF08</th>\n",
       "      <th>SVENF09</th>\n",
       "      <th>SVENF10</th>\n",
       "      <th>...</th>\n",
       "      <th>SVENF21</th>\n",
       "      <th>SVENF22</th>\n",
       "      <th>SVENF23</th>\n",
       "      <th>SVENF24</th>\n",
       "      <th>SVENF25</th>\n",
       "      <th>SVENF26</th>\n",
       "      <th>SVENF27</th>\n",
       "      <th>SVENF28</th>\n",
       "      <th>SVENF29</th>\n",
       "      <th>SVENF30</th>\n",
       "    </tr>\n",
       "  </thead>\n",
       "  <tbody>\n",
       "    <tr>\n",
       "      <th>0</th>\n",
       "      <td>2.1224</td>\n",
       "      <td>2.0266</td>\n",
       "      <td>2.1023</td>\n",
       "      <td>2.2377</td>\n",
       "      <td>2.3790</td>\n",
       "      <td>2.5042</td>\n",
       "      <td>2.6069</td>\n",
       "      <td>2.6885</td>\n",
       "      <td>2.7530</td>\n",
       "      <td>2.8054</td>\n",
       "      <td>...</td>\n",
       "      <td>3.2840</td>\n",
       "      <td>3.3355</td>\n",
       "      <td>3.3876</td>\n",
       "      <td>3.4400</td>\n",
       "      <td>3.4925</td>\n",
       "      <td>3.5446</td>\n",
       "      <td>3.5962</td>\n",
       "      <td>3.6471</td>\n",
       "      <td>3.6970</td>\n",
       "      <td>3.7458</td>\n",
       "    </tr>\n",
       "    <tr>\n",
       "      <th>1</th>\n",
       "      <td>2.1239</td>\n",
       "      <td>2.0317</td>\n",
       "      <td>2.1096</td>\n",
       "      <td>2.2468</td>\n",
       "      <td>2.3901</td>\n",
       "      <td>2.5171</td>\n",
       "      <td>2.6217</td>\n",
       "      <td>2.7049</td>\n",
       "      <td>2.7710</td>\n",
       "      <td>2.8247</td>\n",
       "      <td>...</td>\n",
       "      <td>3.3063</td>\n",
       "      <td>3.3574</td>\n",
       "      <td>3.4091</td>\n",
       "      <td>3.4610</td>\n",
       "      <td>3.5130</td>\n",
       "      <td>3.5646</td>\n",
       "      <td>3.6156</td>\n",
       "      <td>3.6660</td>\n",
       "      <td>3.7153</td>\n",
       "      <td>3.7636</td>\n",
       "    </tr>\n",
       "    <tr>\n",
       "      <th>2</th>\n",
       "      <td>2.0874</td>\n",
       "      <td>1.9956</td>\n",
       "      <td>2.0844</td>\n",
       "      <td>2.2289</td>\n",
       "      <td>2.3736</td>\n",
       "      <td>2.4980</td>\n",
       "      <td>2.5984</td>\n",
       "      <td>2.6779</td>\n",
       "      <td>2.7418</td>\n",
       "      <td>2.7951</td>\n",
       "      <td>...</td>\n",
       "      <td>3.3089</td>\n",
       "      <td>3.3589</td>\n",
       "      <td>3.4086</td>\n",
       "      <td>3.4575</td>\n",
       "      <td>3.5055</td>\n",
       "      <td>3.5524</td>\n",
       "      <td>3.5980</td>\n",
       "      <td>3.6421</td>\n",
       "      <td>3.6847</td>\n",
       "      <td>3.7257</td>\n",
       "    </tr>\n",
       "    <tr>\n",
       "      <th>3</th>\n",
       "      <td>2.1319</td>\n",
       "      <td>2.0559</td>\n",
       "      <td>2.1451</td>\n",
       "      <td>2.2856</td>\n",
       "      <td>2.4257</td>\n",
       "      <td>2.5461</td>\n",
       "      <td>2.6428</td>\n",
       "      <td>2.7188</td>\n",
       "      <td>2.7791</td>\n",
       "      <td>2.8289</td>\n",
       "      <td>...</td>\n",
       "      <td>3.3396</td>\n",
       "      <td>3.3940</td>\n",
       "      <td>3.4485</td>\n",
       "      <td>3.5029</td>\n",
       "      <td>3.5568</td>\n",
       "      <td>3.6099</td>\n",
       "      <td>3.6622</td>\n",
       "      <td>3.7132</td>\n",
       "      <td>3.7630</td>\n",
       "      <td>3.8113</td>\n",
       "    </tr>\n",
       "    <tr>\n",
       "      <th>4</th>\n",
       "      <td>2.1051</td>\n",
       "      <td>2.0234</td>\n",
       "      <td>2.1180</td>\n",
       "      <td>2.2632</td>\n",
       "      <td>2.4051</td>\n",
       "      <td>2.5248</td>\n",
       "      <td>2.6198</td>\n",
       "      <td>2.6940</td>\n",
       "      <td>2.7532</td>\n",
       "      <td>2.8029</td>\n",
       "      <td>...</td>\n",
       "      <td>3.3192</td>\n",
       "      <td>3.3712</td>\n",
       "      <td>3.4227</td>\n",
       "      <td>3.4735</td>\n",
       "      <td>3.5234</td>\n",
       "      <td>3.5722</td>\n",
       "      <td>3.6196</td>\n",
       "      <td>3.6655</td>\n",
       "      <td>3.7098</td>\n",
       "      <td>3.7525</td>\n",
       "    </tr>\n",
       "  </tbody>\n",
       "</table>\n",
       "<p>5 rows × 30 columns</p>\n",
       "</div>"
      ],
      "text/plain": [
       "   SVENF01  SVENF02  SVENF03  SVENF04  SVENF05  SVENF06  SVENF07  SVENF08  \\\n",
       "0   2.1224   2.0266   2.1023   2.2377   2.3790   2.5042   2.6069   2.6885   \n",
       "1   2.1239   2.0317   2.1096   2.2468   2.3901   2.5171   2.6217   2.7049   \n",
       "2   2.0874   1.9956   2.0844   2.2289   2.3736   2.4980   2.5984   2.6779   \n",
       "3   2.1319   2.0559   2.1451   2.2856   2.4257   2.5461   2.6428   2.7188   \n",
       "4   2.1051   2.0234   2.1180   2.2632   2.4051   2.5248   2.6198   2.6940   \n",
       "\n",
       "   SVENF09  SVENF10  ...  SVENF21  SVENF22  SVENF23  SVENF24  SVENF25  \\\n",
       "0   2.7530   2.8054  ...   3.2840   3.3355   3.3876   3.4400   3.4925   \n",
       "1   2.7710   2.8247  ...   3.3063   3.3574   3.4091   3.4610   3.5130   \n",
       "2   2.7418   2.7951  ...   3.3089   3.3589   3.4086   3.4575   3.5055   \n",
       "3   2.7791   2.8289  ...   3.3396   3.3940   3.4485   3.5029   3.5568   \n",
       "4   2.7532   2.8029  ...   3.3192   3.3712   3.4227   3.4735   3.5234   \n",
       "\n",
       "   SVENF26  SVENF27  SVENF28  SVENF29  SVENF30  \n",
       "0   3.5446   3.5962   3.6471   3.6970   3.7458  \n",
       "1   3.5646   3.6156   3.6660   3.7153   3.7636  \n",
       "2   3.5524   3.5980   3.6421   3.6847   3.7257  \n",
       "3   3.6099   3.6622   3.7132   3.7630   3.8113  \n",
       "4   3.5722   3.6196   3.6655   3.7098   3.7525  \n",
       "\n",
       "[5 rows x 30 columns]"
      ]
     },
     "execution_count": 191,
     "metadata": {},
     "output_type": "execute_result"
    }
   ],
   "source": [
    "# Creating feature & target variables\n",
    "\n",
    "X = df.drop([\"Adj_Close\"], axis = 1)\n",
    "y = df[\"Adj_Close\"]\n",
    "\n",
    "# Printing top 5 feature and target samples\n",
    "\n",
    "X.head()"
   ]
  },
  {
   "cell_type": "code",
   "execution_count": 192,
   "metadata": {},
   "outputs": [
    {
     "data": {
      "text/plain": [
       "0    10.130177\n",
       "1    10.130177\n",
       "2    10.150118\n",
       "3    10.130177\n",
       "4    10.130177\n",
       "Name: Adj_Close, dtype: float64"
      ]
     },
     "execution_count": 192,
     "metadata": {},
     "output_type": "execute_result"
    }
   ],
   "source": [
    "y.head()"
   ]
  },
  {
   "cell_type": "code",
   "execution_count": 193,
   "metadata": {},
   "outputs": [
    {
     "data": {
      "text/plain": [
       "(8071, 30)"
      ]
     },
     "execution_count": 193,
     "metadata": {},
     "output_type": "execute_result"
    }
   ],
   "source": [
    "# Checking the dimensions of feature and target matrices\n",
    "X.shape"
   ]
  },
  {
   "cell_type": "code",
   "execution_count": 194,
   "metadata": {},
   "outputs": [
    {
     "data": {
      "text/plain": [
       "(8071,)"
      ]
     },
     "execution_count": 194,
     "metadata": {},
     "output_type": "execute_result"
    }
   ],
   "source": [
    "y.shape"
   ]
  },
  {
   "cell_type": "code",
   "execution_count": 195,
   "metadata": {},
   "outputs": [
    {
     "data": {
      "text/plain": [
       "SVENF01      float64\n",
       "SVENF02      float64\n",
       "SVENF03      float64\n",
       "SVENF04      float64\n",
       "SVENF05      float64\n",
       "SVENF06      float64\n",
       "SVENF07      float64\n",
       "SVENF08      float64\n",
       "SVENF09      float64\n",
       "SVENF10      float64\n",
       "SVENF11      float64\n",
       "SVENF12      float64\n",
       "SVENF13      float64\n",
       "SVENF14      float64\n",
       "SVENF15      float64\n",
       "SVENF16      float64\n",
       "SVENF17      float64\n",
       "SVENF18      float64\n",
       "SVENF19      float64\n",
       "SVENF20      float64\n",
       "SVENF21      float64\n",
       "SVENF22      float64\n",
       "SVENF23      float64\n",
       "SVENF24      float64\n",
       "SVENF25      float64\n",
       "SVENF26      float64\n",
       "SVENF27      float64\n",
       "SVENF28      float64\n",
       "SVENF29      float64\n",
       "SVENF30      float64\n",
       "Adj_Close    float64\n",
       "dtype: object"
      ]
     },
     "execution_count": 195,
     "metadata": {},
     "output_type": "execute_result"
    }
   ],
   "source": [
    "# Checking the data type of all the variables\n",
    "df.dtypes"
   ]
  },
  {
   "cell_type": "code",
   "execution_count": 196,
   "metadata": {},
   "outputs": [],
   "source": [
    "# Data Normalisation\n",
    "\n",
    "sc_x  = StandardScaler()\n",
    "sc_y  = StandardScaler()\n",
    "\n",
    "X = sc_x.fit_transform(X)\n",
    "y = sc_y.fit_transform(y[:, np.newaxis]).flatten()"
   ]
  },
  {
   "cell_type": "code",
   "execution_count": 197,
   "metadata": {},
   "outputs": [
    {
     "data": {
      "text/plain": [
       "array([-0.62801241, -0.89367021, -1.09647185, -1.25353893, -1.37509269,\n",
       "       -1.46876846, -1.54061094, -1.59481578, -1.6343227 , -1.66089503,\n",
       "       -1.67593385, -1.68031508, -1.67488095, -1.66046348, -1.63778634,\n",
       "       -1.60760025, -1.57059152, -1.52744419, -1.47884215, -1.42539682,\n",
       "       -1.36779709, -1.30666924, -1.24270328, -1.17654589, -1.10880562,\n",
       "       -1.04026033, -0.97146258, -0.90300097, -0.83548343, -0.76936512])"
      ]
     },
     "execution_count": 197,
     "metadata": {},
     "output_type": "execute_result"
    }
   ],
   "source": [
    "# Printing normalised samples\n",
    "X[0]\n"
   ]
  },
  {
   "cell_type": "code",
   "execution_count": 198,
   "metadata": {},
   "outputs": [
    {
     "data": {
      "text/plain": [
       "1.8548635119646166"
      ]
     },
     "execution_count": 198,
     "metadata": {},
     "output_type": "execute_result"
    }
   ],
   "source": [
    "y[0]"
   ]
  },
  {
   "cell_type": "code",
   "execution_count": 201,
   "metadata": {},
   "outputs": [],
   "source": [
    "# train test split\n",
    "X_train, X_test, y_train, y_test = train_test_split(X,y,test_size = 0.15,random_state = 42)"
   ]
  },
  {
   "cell_type": "code",
   "execution_count": 202,
   "metadata": {},
   "outputs": [
    {
     "data": {
      "text/plain": [
       "(6860, 30)"
      ]
     },
     "execution_count": 202,
     "metadata": {},
     "output_type": "execute_result"
    }
   ],
   "source": [
    "X_train.shape"
   ]
  },
  {
   "cell_type": "code",
   "execution_count": 203,
   "metadata": {},
   "outputs": [
    {
     "data": {
      "text/plain": [
       "(6860,)"
      ]
     },
     "execution_count": 203,
     "metadata": {},
     "output_type": "execute_result"
    }
   ],
   "source": [
    "y_train.shape"
   ]
  },
  {
   "cell_type": "code",
   "execution_count": 204,
   "metadata": {},
   "outputs": [
    {
     "data": {
      "text/plain": [
       "(1211, 30)"
      ]
     },
     "execution_count": 204,
     "metadata": {},
     "output_type": "execute_result"
    }
   ],
   "source": [
    "X_test.shape"
   ]
  },
  {
   "cell_type": "code",
   "execution_count": 205,
   "metadata": {},
   "outputs": [
    {
     "data": {
      "text/plain": [
       "(1211,)"
      ]
     },
     "execution_count": 205,
     "metadata": {},
     "output_type": "execute_result"
    }
   ],
   "source": [
    "y_test.shape"
   ]
  },
  {
   "cell_type": "code",
   "execution_count": 207,
   "metadata": {},
   "outputs": [
    {
     "name": "stdout",
     "output_type": "stream",
     "text": [
      "explained variance:  [9.31551578e-01 4.10381396e-02 2.17571894e-02 4.90770793e-03\n",
      " 6.66258468e-04 6.84682628e-05 9.45877274e-06 1.10715135e-06\n",
      " 8.49789606e-08 6.73577380e-09 4.73158760e-10 3.80813920e-11\n",
      " 9.20784805e-12 8.66497245e-12 8.59068493e-12 8.49070772e-12\n",
      " 8.41484271e-12 8.35670553e-12 8.23409147e-12 8.08402573e-12\n",
      " 8.02111802e-12 7.95771187e-12 7.72519406e-12 7.59629463e-12\n",
      " 7.53783680e-12 7.45158811e-12 7.28531780e-12 6.89854502e-12\n",
      " 6.59291154e-12 6.29310460e-12] \n",
      "\n",
      "cummulative explained variance:  [0.93155158 0.97258972 0.99434691 0.99925461 0.99992087 0.99998934\n",
      " 0.9999988  0.99999991 0.99999999 1.         1.         1.\n",
      " 1.         1.         1.         1.         1.         1.\n",
      " 1.         1.         1.         1.         1.         1.\n",
      " 1.         1.         1.         1.         1.         1.        ]\n"
     ]
    }
   ],
   "source": [
    "# PCA using sklearn : all components\n",
    "\n",
    "from sklearn.decomposition import PCA\n",
    "\n",
    "pca         = PCA()\n",
    "\n",
    "X_pca       = pca.fit_transform(X)\n",
    "\n",
    "exp_var     = pca.explained_variance_ratio_\n",
    "\n",
    "cum_exp_var = np.cumsum(exp_var)\n",
    "\n",
    "print(\"explained variance: \", exp_var,\"\\n\")\n",
    "print(\"cummulative explained variance: \", cum_exp_var)"
   ]
  },
  {
   "cell_type": "code",
   "execution_count": 208,
   "metadata": {},
   "outputs": [
    {
     "data": {
      "text/plain": [
       "30"
      ]
     },
     "execution_count": 208,
     "metadata": {},
     "output_type": "execute_result"
    }
   ],
   "source": [
    "len(exp_var)\n"
   ]
  },
  {
   "cell_type": "code",
   "execution_count": 209,
   "metadata": {},
   "outputs": [
    {
     "data": {
      "image/png": "[encoded data removed]",
      "text/plain": [
       "<Figure size 432x288 with 1 Axes>"
      ]
     },
     "metadata": {
      "needs_background": "light"
     },
     "output_type": "display_data"
    }
   ],
   "source": [
    "pca_ev = plt.bar(range(1,31),exp_var,\n",
    "                 label = 'individual explained variance')\n",
    "pca_ev = plt.step(range(1,31),cum_exp_var,\n",
    "                  label = 'cumulative explained variance')\n",
    "\n",
    "pca_ev = plt.ylabel(\"Explained variance ratio\")\n",
    "pca_ev = plt.xlabel(\"Principal component index\")\n",
    "pac_ev = plt.legend(loc='best')\n",
    "plt.show()"
   ]
  },
  {
   "cell_type": "code",
   "execution_count": 210,
   "metadata": {},
   "outputs": [
    {
     "name": "stdout",
     "output_type": "stream",
     "text": [
      "explained variance of 3 components:  [0.93155158 0.04103814 0.02175719] \n",
      "\n",
      "\n",
      "cumulative explained variance of 3 components:  [0.93155158 0.97258972 0.99434691]\n"
     ]
    }
   ],
   "source": [
    "# PCA with 3 components\n",
    "\n",
    "pca_3   = PCA(n_components = 3)\n",
    "\n",
    "X_pca_3 = pca_3.fit_transform(X)\n",
    "\n",
    "exp_var_3 = pca_3.explained_variance_ratio_\n",
    "\n",
    "cum_exp_var_3 = np.cumsum(exp_var_3)\n",
    "\n",
    "print(\"explained variance of 3 components: \", exp_var_3, \"\\n\\n\")\n",
    "\n",
    "print(\"cumulative explained variance of 3 components: \", cum_exp_var_3)"
   ]
  },
  {
   "cell_type": "code",
   "execution_count": 211,
   "metadata": {},
   "outputs": [
    {
     "data": {
      "image/png": "[encoded data removed]",
      "text/plain": [
       "<Figure size 432x288 with 1 Axes>"
      ]
     },
     "metadata": {
      "needs_background": "light"
     },
     "output_type": "display_data"
    }
   ],
   "source": [
    "pca_ev_3 = plt.bar(range(1,4),exp_var_3, label = \"individual explained variance of 3 PCs\")\n",
    "pca_ev_3 = plt.step(range(1,4),cum_exp_var_3, label = \"cumulative explained variance\")\n",
    "\n",
    "pca_ev_3 = plt.xlabel(\"Principal Component Index (3 PCs)\")\n",
    "pca_ev_3 = plt.ylabel(\"Explained variance ratio (3 PCs)\")\n",
    "\n",
    "pca_ev_3 = plt.legend(loc = \"best\")\n",
    "plt.show()\n"
   ]
  },
  {
   "cell_type": "code",
   "execution_count": 212,
   "metadata": {},
   "outputs": [
    {
     "data": {
      "text/plain": [
       "(8071, 3)"
      ]
     },
     "execution_count": 212,
     "metadata": {},
     "output_type": "execute_result"
    }
   ],
   "source": [
    "X_pca_3.shape\n"
   ]
  },
  {
   "cell_type": "code",
   "execution_count": 213,
   "metadata": {},
   "outputs": [
    {
     "data": {
      "text/plain": [
       "array([-7.25452987, -1.17875588, -0.94525198])"
      ]
     },
     "execution_count": 213,
     "metadata": {},
     "output_type": "execute_result"
    }
   ],
   "source": [
    "X_pca_3[1]\n"
   ]
  },
  {
   "cell_type": "code",
   "execution_count": 214,
   "metadata": {},
   "outputs": [],
   "source": [
    "# train test split of PCA data\n",
    "\n",
    "X_train_pca, X_test_pca,y_train_pca,y_test_pca = train_test_split(X_pca_3,y,test_size = 0.15, random_state =42)"
   ]
  },
  {
   "cell_type": "code",
   "execution_count": 215,
   "metadata": {},
   "outputs": [
    {
     "data": {
      "text/plain": [
       "(6860, 3)"
      ]
     },
     "execution_count": 215,
     "metadata": {},
     "output_type": "execute_result"
    }
   ],
   "source": [
    "X_train_pca.shape"
   ]
  },
  {
   "cell_type": "code",
   "execution_count": 216,
   "metadata": {},
   "outputs": [
    {
     "data": {
      "text/plain": [
       "(6860,)"
      ]
     },
     "execution_count": 216,
     "metadata": {},
     "output_type": "execute_result"
    }
   ],
   "source": [
    "y_train_pca.shape"
   ]
  },
  {
   "cell_type": "code",
   "execution_count": 217,
   "metadata": {},
   "outputs": [
    {
     "data": {
      "text/plain": [
       "(1211, 3)"
      ]
     },
     "execution_count": 217,
     "metadata": {},
     "output_type": "execute_result"
    }
   ],
   "source": [
    "X_test_pca.shape"
   ]
  },
  {
   "cell_type": "code",
   "execution_count": 218,
   "metadata": {},
   "outputs": [
    {
     "data": {
      "text/plain": [
       "(1211,)"
      ]
     },
     "execution_count": 218,
     "metadata": {},
     "output_type": "execute_result"
    }
   ],
   "source": [
    "y_test_pca.shape"
   ]
  },
  {
   "cell_type": "code",
   "execution_count": 219,
   "metadata": {},
   "outputs": [
    {
     "data": {
      "text/plain": [
       "LinearRegression(copy_X=True, fit_intercept=True, n_jobs=None, normalize=False)"
      ]
     },
     "execution_count": 219,
     "metadata": {},
     "output_type": "execute_result"
    }
   ],
   "source": [
    "# linear regression using all attributes\n",
    "\n",
    "from sklearn.linear_model import LinearRegression\n",
    "\n",
    "lr = LinearRegression()\n",
    "\n",
    "lr.fit(X_train,y_train)"
   ]
  },
  {
   "cell_type": "code",
   "execution_count": 220,
   "metadata": {},
   "outputs": [
    {
     "data": {
      "text/plain": [
       "-0.0002537350463017512"
      ]
     },
     "execution_count": 220,
     "metadata": {},
     "output_type": "execute_result"
    }
   ],
   "source": [
    "# Intercept of lr\n",
    "\n",
    "lr.intercept_"
   ]
  },
  {
   "cell_type": "code",
   "execution_count": 221,
   "metadata": {},
   "outputs": [],
   "source": [
    "# Predicting the target variable\n",
    "\n",
    "y_train_pred = lr.predict(X_train)\n",
    "y_test_pred  = lr.predict(X_test)\n"
   ]
  },
  {
   "cell_type": "code",
   "execution_count": 222,
   "metadata": {},
   "outputs": [
    {
     "data": {
      "text/plain": [
       "array([ 0.6198894 , -0.17297496, -1.65296845, -1.52503999,  1.25915686])"
      ]
     },
     "execution_count": 222,
     "metadata": {},
     "output_type": "execute_result"
    }
   ],
   "source": [
    "# printing samples of predictions on training data\n",
    "\n",
    "y_train_pred[0:5]\n"
   ]
  },
  {
   "cell_type": "code",
   "execution_count": 223,
   "metadata": {},
   "outputs": [
    {
     "data": {
      "text/plain": [
       "array([ 1.63351896,  0.43975065,  0.86234581,  0.15821232, -0.98982547])"
      ]
     },
     "execution_count": 223,
     "metadata": {},
     "output_type": "execute_result"
    }
   ],
   "source": [
    "# printing samples of predictions on test data\n",
    "\n",
    "y_test_pred[0:5]"
   ]
  },
  {
   "cell_type": "code",
   "execution_count": 224,
   "metadata": {},
   "outputs": [
    {
     "data": {
      "text/plain": [
       "array([  -5.14327815,   53.30879985, -234.75984563,  526.53080518,\n",
       "       -589.53293754,  190.49261133,  236.9452331 , -244.27542215,\n",
       "        -35.35257675,  253.21581884, -225.54357964,  155.13438245,\n",
       "         -0.6856332 ,  -66.20127944,  -72.96036713,   -5.61950765,\n",
       "       -224.71415001,  159.6849403 ,  100.31867125,   97.38326492,\n",
       "        408.40919409, -280.29278264,  127.15046123, -301.93074584,\n",
       "       -574.37042304,  172.85089173,   74.64506844,  613.2819432 ,\n",
       "        -59.10610168, -249.61100677])"
      ]
     },
     "execution_count": 224,
     "metadata": {},
     "output_type": "execute_result"
    }
   ],
   "source": [
    "# printing coefficient array of the linear regression\n",
    "\n",
    "lr.coef_\n"
   ]
  },
  {
   "cell_type": "code",
   "execution_count": 225,
   "metadata": {},
   "outputs": [
    {
     "data": {
      "text/plain": [
       "30"
      ]
     },
     "execution_count": 225,
     "metadata": {},
     "output_type": "execute_result"
    }
   ],
   "source": [
    "# length of the coefficient array\n",
    "\n",
    "len(lr.coef_)"
   ]
  },
  {
   "cell_type": "code",
   "execution_count": 226,
   "metadata": {},
   "outputs": [],
   "source": [
    "# Importing relevant score metrics\n",
    "\n",
    "from sklearn.metrics import r2_score, mean_squared_error"
   ]
  },
  {
   "cell_type": "code",
   "execution_count": 228,
   "metadata": {},
   "outputs": [
    {
     "name": "stdout",
     "output_type": "stream",
     "text": [
      "Score metrics of linear regression model with all the attributes: \n",
      "\n",
      "\n",
      "R^2 of training set:  0.9022730353400431 \n",
      "\n",
      "R^2 of test set:  0.9041309535337722 \n",
      "\n",
      "rmse of training set:  0.31178924107181893 \n",
      "\n",
      "rmse of test set:  0.31408405531078176 \n",
      "\n"
     ]
    }
   ],
   "source": [
    "# calculating & printing accuracy R^2 and rmse\n",
    "\n",
    "r2_tr_lr     = r2_score(y_train,y_train_pred)\n",
    "r2_test_lr   = r2_score(y_test,y_test_pred)\n",
    "\n",
    "mse_tr_lr    = mean_squared_error(y_train,y_train_pred)\n",
    "mse_test_lr  = mean_squared_error(y_test,y_test_pred)\n",
    "\n",
    "rmse_tr_lr   = np.sqrt(mse_tr_lr)\n",
    "rmse_test_lr = np.sqrt(mse_test_lr)\n",
    "\n",
    "print(\"Score metrics of linear regression model with all the attributes:\",\"\\n\\n\")\n",
    "\n",
    "print(\"R^2 of training set: \",r2_tr_lr,\"\\n\")\n",
    "print(\"R^2 of test set: \",r2_test_lr,\"\\n\")\n",
    "\n",
    "print(\"rmse of training set: \",rmse_tr_lr,\"\\n\")\n",
    "print(\"rmse of test set: \",rmse_test_lr,\"\\n\")"
   ]
  },
  {
   "cell_type": "code",
   "execution_count": 229,
   "metadata": {},
   "outputs": [
    {
     "data": {
      "text/plain": [
       "SVR(C=1.0, cache_size=200, coef0=0.0, degree=3, epsilon=0.1, gamma='auto',\n",
       "    kernel='rbf', max_iter=-1, shrinking=True, tol=0.001, verbose=False)"
      ]
     },
     "execution_count": 229,
     "metadata": {},
     "output_type": "execute_result"
    }
   ],
   "source": [
    "# SVM regression with all the attributes\n",
    "\n",
    "from sklearn.svm import SVR\n",
    "\n",
    "svr = SVR(gamma = \"auto\")\n",
    "\n",
    "svr.fit(X_train,y_train)\n"
   ]
  },
  {
   "cell_type": "code",
   "execution_count": 230,
   "metadata": {},
   "outputs": [],
   "source": [
    "# predicting the target variable using svr\n",
    "\n",
    "y_train_pred_svr = svr.predict(X_train)\n",
    "y_test_pred_svr  = svr.predict(X_test)"
   ]
  },
  {
   "cell_type": "code",
   "execution_count": 231,
   "metadata": {},
   "outputs": [
    {
     "data": {
      "text/plain": [
       "array([ 0.80696226, -0.35072674, -1.05485499, -0.97411025,  1.71839809])"
      ]
     },
     "execution_count": 231,
     "metadata": {},
     "output_type": "execute_result"
    }
   ],
   "source": [
    "# printing samples of training predictions\n",
    "\n",
    "y_train_pred_svr[0:5]"
   ]
  },
  {
   "cell_type": "code",
   "execution_count": 232,
   "metadata": {},
   "outputs": [
    {
     "data": {
      "text/plain": [
       "array([ 1.63556563,  0.5112187 ,  0.90078472, -0.0054551 , -0.92901116])"
      ]
     },
     "execution_count": 232,
     "metadata": {},
     "output_type": "execute_result"
    }
   ],
   "source": [
    "# printing samples of test predictions\n",
    "\n",
    "y_test_pred_svr[0:5]"
   ]
  },
  {
   "cell_type": "code",
   "execution_count": 233,
   "metadata": {},
   "outputs": [
    {
     "name": "stdout",
     "output_type": "stream",
     "text": [
      "Score metrics of SVM Regressor with all the attributes \n",
      "\n",
      "Accuracy R^2 Score of training set:  0.9894022898799042 \n",
      "\n",
      "Accuracy R^2 Score of test set:  0.9895669606579882 \n",
      "\n",
      "RMSE of training set:  0.10267387143227558 \n",
      "\n",
      "RMSE of test set:  0.10361248942902963 \n",
      "\n"
     ]
    }
   ],
   "source": [
    "# Calculating and printing accuracy R^2 and rmse\n",
    "\n",
    "r2_tr_svm     = r2_score(y_train,y_train_pred_svr)\n",
    "r2_test_svm   = r2_score(y_test,y_test_pred_svr)\n",
    "\n",
    "mse_tr_svm    = mean_squared_error(y_train,y_train_pred_svr)\n",
    "mse_test_svm  = mean_squared_error(y_test,y_test_pred_svr)\n",
    "\n",
    "rmse_tr_svm   = np.sqrt(mse_tr_svm)\n",
    "rmse_test_svm = np.sqrt(mse_test_svm)\n",
    "\n",
    "print(\"Score metrics of SVM Regressor with all the attributes\",\"\\n\")\n",
    "\n",
    "print(\"Accuracy R^2 Score of training set: \",r2_tr_svm,\"\\n\")\n",
    "print(\"Accuracy R^2 Score of test set: \",r2_test_svm,\"\\n\")\n",
    "\n",
    "print(\"RMSE of training set: \",rmse_tr_svm,\"\\n\")\n",
    "print(\"RMSE of test set: \",rmse_test_svm,\"\\n\")\n"
   ]
  },
  {
   "cell_type": "code",
   "execution_count": 234,
   "metadata": {},
   "outputs": [
    {
     "data": {
      "text/plain": [
       "LinearRegression(copy_X=True, fit_intercept=True, n_jobs=None, normalize=False)"
      ]
     },
     "execution_count": 234,
     "metadata": {},
     "output_type": "execute_result"
    }
   ],
   "source": [
    "# Linear Regression with 3 PCAs\n",
    "\n",
    "lr_pca = LinearRegression()\n",
    "\n",
    "lr_pca.fit(X_train_pca,y_train_pca)"
   ]
  },
  {
   "cell_type": "code",
   "execution_count": 235,
   "metadata": {},
   "outputs": [],
   "source": [
    "# predicting the target variable\n",
    "\n",
    "y_train_pred_pca = lr_pca.predict(X_train_pca)\n",
    "y_test_pred_pca  = lr_pca.predict(X_test_pca)"
   ]
  },
  {
   "cell_type": "code",
   "execution_count": 236,
   "metadata": {},
   "outputs": [
    {
     "data": {
      "text/plain": [
       "array([ 0.38044872, -0.11116546, -1.8698518 , -1.5025194 ,  1.23807999])"
      ]
     },
     "execution_count": 236,
     "metadata": {},
     "output_type": "execute_result"
    }
   ],
   "source": [
    "# Printing the sample predictions\n",
    "\n",
    "y_train_pred_pca[0:5]"
   ]
  },
  {
   "cell_type": "code",
   "execution_count": 237,
   "metadata": {},
   "outputs": [
    {
     "data": {
      "text/plain": [
       "array([ 1.58036301,  0.72049814,  0.53753648,  0.11674246, -1.2809105 ])"
      ]
     },
     "execution_count": 237,
     "metadata": {},
     "output_type": "execute_result"
    }
   ],
   "source": [
    "y_test_pred_pca[0:5]"
   ]
  },
  {
   "cell_type": "code",
   "execution_count": 238,
   "metadata": {},
   "outputs": [
    {
     "data": {
      "text/plain": [
       "array([-0.17042899, -0.19468123,  0.10719771])"
      ]
     },
     "execution_count": 238,
     "metadata": {},
     "output_type": "execute_result"
    }
   ],
   "source": [
    "# printing the coefficient estimates of the model\n",
    "\n",
    "lr_pca.coef_"
   ]
  },
  {
   "cell_type": "code",
   "execution_count": 239,
   "metadata": {},
   "outputs": [
    {
     "data": {
      "text/plain": [
       "0.00023009009540402633"
      ]
     },
     "execution_count": 239,
     "metadata": {},
     "output_type": "execute_result"
    }
   ],
   "source": [
    "\n",
    "# printing the intercept of the model\n",
    "\n",
    "lr_pca.intercept_"
   ]
  },
  {
   "cell_type": "code",
   "execution_count": 240,
   "metadata": {},
   "outputs": [
    {
     "name": "stdout",
     "output_type": "stream",
     "text": [
      "Score metrics of linear regression model with 3 PCAs \n",
      "\n",
      "\n",
      "R^2 of training set:  0.8671016816035844 \n",
      "\n",
      "R^2 of test set:  0.8661280187278886 \n",
      "\n",
      "rmse of training set:  0.3635914505503227 \n",
      "\n",
      "rmse of test set:  0.37115176592109095 \n",
      "\n"
     ]
    }
   ],
   "source": [
    "# calculating & printing accuracy R^2 and rmse\n",
    "\n",
    "r2_tr_lr_pca     = r2_score(y_train_pca,y_train_pred_pca)\n",
    "r2_test_lr_pca   = r2_score(y_test_pca,y_test_pred_pca)\n",
    "\n",
    "mse_tr_lr_pca    = mean_squared_error(y_train_pca,y_train_pred_pca)\n",
    "mse_test_lr_pca  = mean_squared_error(y_test_pca,y_test_pred_pca)\n",
    "\n",
    "rmse_tr_lr_pca   = np.sqrt(mse_tr_lr_pca)\n",
    "rmse_test_lr_pca = np.sqrt(mse_test_lr_pca)\n",
    "\n",
    "print(\"Score metrics of linear regression model with 3 PCAs\",\"\\n\\n\")\n",
    "\n",
    "print(\"R^2 of training set: \",r2_tr_lr_pca,\"\\n\")\n",
    "print(\"R^2 of test set: \",r2_test_lr_pca,\"\\n\")\n",
    "\n",
    "print(\"rmse of training set: \",rmse_tr_lr_pca,\"\\n\")\n",
    "print(\"rmse of test set: \",rmse_test_lr_pca,\"\\n\")\n"
   ]
  },
  {
   "cell_type": "code",
   "execution_count": 241,
   "metadata": {},
   "outputs": [
    {
     "data": {
      "text/plain": [
       "SVR(C=1.0, cache_size=200, coef0=0.0, degree=3, epsilon=0.1, gamma='auto',\n",
       "    kernel='rbf', max_iter=-1, shrinking=True, tol=0.001, verbose=False)"
      ]
     },
     "execution_count": 241,
     "metadata": {},
     "output_type": "execute_result"
    }
   ],
   "source": [
    "# SVM Regressor with 3 PCAs\n",
    "\n",
    "svr_pca = SVR(gamma = \"auto\")\n",
    "\n",
    "svr_pca.fit(X_train_pca,y_train_pca)"
   ]
  },
  {
   "cell_type": "code",
   "execution_count": 243,
   "metadata": {},
   "outputs": [],
   "source": [
    "# predicting the target variable \n",
    "\n",
    "y_train_pred_svr_pca = svr_pca.predict(X_train_pca)\n",
    "y_test_pred_svr_pca  = svr_pca.predict(X_test_pca)"
   ]
  },
  {
   "cell_type": "code",
   "execution_count": 244,
   "metadata": {},
   "outputs": [
    {
     "name": "stdout",
     "output_type": "stream",
     "text": [
      "[ 0.70649774 -0.51350124 -1.00024552 -0.96429536  1.77173722] \n",
      " [ 1.5874927   0.87886496  1.02553839  0.05390764 -0.9684526 ]\n"
     ]
    }
   ],
   "source": [
    "\n",
    "# printing the prediction samples\n",
    "\n",
    "print(y_train_pred_svr_pca[0:5],\"\\n\",y_test_pred_svr_pca[0:5])"
   ]
  },
  {
   "cell_type": "code",
   "execution_count": 245,
   "metadata": {},
   "outputs": [
    {
     "name": "stdout",
     "output_type": "stream",
     "text": [
      "Score metrics of SVR with 3 PCAs:  \n",
      "\n",
      "R^2 Score of training set:  0.9893204761262603 \n",
      "\n",
      "R^2 Score of test set:  0.9895212187142071 \n",
      "\n",
      "RMSE of training set:  0.10306942787128902 \n",
      "\n",
      "RMSE of test set:  0.10383937696621369 \n",
      "\n"
     ]
    }
   ],
   "source": [
    "# Calculating & printing the Accuracy R^2 Score and RMSE\n",
    "\n",
    "r2_tr_svr_pca     = r2_score(y_train_pca,y_train_pred_svr_pca)\n",
    "r2_test_svr_pca   = r2_score(y_test_pca,y_test_pred_svr_pca)\n",
    "\n",
    "mse_tr_svr_pca    = mean_squared_error(y_train_pca,y_train_pred_svr_pca)\n",
    "mse_test_svr_pca  = mean_squared_error(y_test_pca,y_test_pred_svr_pca)\n",
    "\n",
    "rmse_tr_svr_pca   = np.sqrt(mse_tr_svr_pca)\n",
    "rmse_test_svr_pca = np.sqrt(mse_test_svr_pca)\n",
    "\n",
    "print(\"Score metrics of SVR with 3 PCAs: \",\"\\n\")\n",
    "\n",
    "print(\"R^2 Score of training set: \",r2_tr_svr_pca,\"\\n\")\n",
    "print(\"R^2 Score of test set: \",r2_test_svr_pca,\"\\n\")\n",
    "\n",
    "print(\"RMSE of training set: \",rmse_tr_svr_pca,\"\\n\")\n",
    "print(\"RMSE of test set: \",rmse_test_svr_pca,\"\\n\")"
   ]
  },
  {
   "cell_type": "code",
   "execution_count": 246,
   "metadata": {},
   "outputs": [],
   "source": [
    "import time\n"
   ]
  },
  {
   "cell_type": "code",
   "execution_count": 247,
   "metadata": {},
   "outputs": [
    {
     "name": "stdout",
     "output_type": "stream",
     "text": [
      "lr time with all the attributes:  0.9135565757751465\n"
     ]
    }
   ],
   "source": [
    "# time to fit and predict with linear regression, considering all the attributes\n",
    "\n",
    "s_lr_t    = time.time()\n",
    "\n",
    "lr_t      = LinearRegression()\n",
    "\n",
    "lr_t.fit(X_train,y_train)\n",
    "\n",
    "y_t_pred  = lr_t.predict(X_train)\n",
    "y_ts_pred = lr_t.predict(X_test)\n",
    "\n",
    "e_lr_t    = time.time()\n",
    "\n",
    "print(\"lr time with all the attributes: \",(e_lr_t-s_lr_t))"
   ]
  },
  {
   "cell_type": "code",
   "execution_count": 248,
   "metadata": {},
   "outputs": [
    {
     "name": "stdout",
     "output_type": "stream",
     "text": [
      "lr time with PCA:  0.004987478256225586\n"
     ]
    }
   ],
   "source": [
    "# time to fit and predict with linear regression, considering 3 PCAs\n",
    "\n",
    "s_lr_t_pca    = time.time()\n",
    "\n",
    "lr_t_pca      = LinearRegression()\n",
    "\n",
    "lr_t_pca.fit(X_train_pca,y_train_pca)\n",
    "\n",
    "y_t_pred_pca  = lr_t_pca.predict(X_train_pca)\n",
    "y_ts_pred_pca = lr_t_pca.predict(X_test_pca)\n",
    "\n",
    "e_lr_t_pca    = time.time()\n",
    "\n",
    "print(\"lr time with PCA: \",(e_lr_t_pca-s_lr_t_pca))"
   ]
  },
  {
   "cell_type": "code",
   "execution_count": 249,
   "metadata": {},
   "outputs": [
    {
     "name": "stdout",
     "output_type": "stream",
     "text": [
      "SVR time with all the atrributes:  1.6655776500701904\n"
     ]
    }
   ],
   "source": [
    "# time to fit and predict SVR with all the attributes\n",
    "\n",
    "s_svr_t       = time.time()\n",
    "\n",
    "svr_t         = SVR(gamma = \"auto\")\n",
    "\n",
    "svr_t.fit(X_train,y_train)\n",
    "\n",
    "y_t_pred_svr  = svr_t.predict(X_train)\n",
    "y_ts_pred_svr = svr_t.predict(X_test)\n",
    "\n",
    "e_svr_t       = time.time()\n",
    "\n",
    "print(\"SVR time with all the atrributes: \",(e_svr_t-s_svr_t))"
   ]
  },
  {
   "cell_type": "code",
   "execution_count": 250,
   "metadata": {},
   "outputs": [
    {
     "name": "stdout",
     "output_type": "stream",
     "text": [
      "SVR time with 3 PCAs:  0.6353263854980469\n"
     ]
    }
   ],
   "source": [
    "# time to fit and predict SVR with 3 PCAs\n",
    "\n",
    "s_svr_t_pca   = time.time()\n",
    "\n",
    "svr_t_pca     = SVR(gamma = \"auto\")\n",
    "\n",
    "svr_t_pca.fit(X_train_pca,y_train_pca)\n",
    "\n",
    "y_t_pred_svr_pca = svr_t_pca.predict(X_train_pca)\n",
    "y_ts_pred_svr_pca = svr_t_pca.predict(X_test_pca)\n",
    "\n",
    "e_svr_t_pca = time.time()\n",
    "\n",
    "print(\"SVR time with 3 PCAs: \",(e_svr_t_pca-s_svr_t_pca))"
   ]
  },
  {
   "cell_type": "code",
   "execution_count": null,
   "metadata": {},
   "outputs": [],
   "source": []
  }
 ],
 "metadata": {
  "kernelspec": {
   "display_name": "Python 3",
   "language": "python",
   "name": "python3"
  },
  "language_info": {
   "codemirror_mode": {
    "name": "ipython",
    "version": 3
   },
   "file_extension": ".py",
   "mimetype": "text/x-python",
   "name": "python",
   "nbconvert_exporter": "python",
   "pygments_lexer": "ipython3",
   "version": "3.7.3"
  }
 },
 "nbformat": 4,
 "nbformat_minor": 2
}
